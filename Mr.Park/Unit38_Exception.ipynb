{
 "cells": [
  {
   "cell_type": "markdown",
   "metadata": {},
   "source": [
    "# User Defined Exception\n",
    "* Exception Class를 상속 받아서 나만의 예외처리를 만들 수 있다."
   ]
  },
  {
   "cell_type": "code",
   "execution_count": 1,
   "metadata": {},
   "outputs": [
    {
     "name": "stdout",
     "output_type": "stream",
     "text": [
      "Hello\n",
      "SuHyun's Exception\n"
     ]
    }
   ],
   "source": [
    "class SHException(Exception):\n",
    "    def __init__(self):\n",
    "        super().__init__(\"SuHyun's Exception\")\n",
    "\n",
    "def main():\n",
    "    try:\n",
    "        print(\"Hello\")\n",
    "        raise SHException\n",
    "    except SHException as se:\n",
    "        print(se)\n",
    "\n",
    "main()"
   ]
  },
  {
   "cell_type": "code",
   "execution_count": 3,
   "metadata": {},
   "outputs": [
    {
     "name": "stdout",
     "output_type": "stream",
     "text": [
      "func2\n",
      "func1\n",
      "\n"
     ]
    }
   ],
   "source": [
    "def func1():\n",
    "    try:\n",
    "        print('func1')\n",
    "        raise ZeroDivisionError # raise 강제로 일어나게 하는 것!!\n",
    "    except AttributeError as e:\n",
    "        print(e)\n",
    "\n",
    "def func2():\n",
    "    try:\n",
    "        print('func2')\n",
    "        func1()\n",
    "    except ZeroDivisionError as e:\n",
    "        print(e) \n",
    "\n",
    "def main():\n",
    "    try:\n",
    "        func2()\n",
    "    except ZeroDivisionError as e:\n",
    "        print(e)\n",
    "\n",
    "main()"
   ]
  }
 ],
 "metadata": {
  "kernelspec": {
   "display_name": "Python 3",
   "language": "python",
   "name": "python3"
  },
  "language_info": {
   "codemirror_mode": {
    "name": "ipython",
    "version": 3
   },
   "file_extension": ".py",
   "mimetype": "text/x-python",
   "name": "python",
   "nbconvert_exporter": "python",
   "pygments_lexer": "ipython3",
   "version": "3.11.4"
  },
  "orig_nbformat": 4
 },
 "nbformat": 4,
 "nbformat_minor": 2
}
