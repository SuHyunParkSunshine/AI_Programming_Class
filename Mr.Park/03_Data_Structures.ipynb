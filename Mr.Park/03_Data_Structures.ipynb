{
 "cells": [
  {
   "cell_type": "code",
   "execution_count": 1,
   "metadata": {},
   "outputs": [
    {
     "name": "stdout",
     "output_type": "stream",
     "text": [
      "[1, 2, 54, 6, 8, [10, 20]]\n",
      "[1, 2, 54, 6, 8, 10, 20]\n"
     ]
    }
   ],
   "source": [
    "#append 랑 extend 차이\n",
    "nums = [1, 2, 54, 6, 8]\n",
    "nums1 = nums[:]\n",
    "nums2 = nums[:]\n",
    "\n",
    "nums1.append([10, 20])\n",
    "nums2.extend([10, 20])\n",
    "\n",
    "print(nums1) # 배열 그 잡채가 한덩어리로 원래 배열에 추가가 됨\n",
    "print(nums2) # 추가하고자 하는 값들이 따로 원래 배열에 추가가 됨"
   ]
  },
  {
   "attachments": {},
   "cell_type": "markdown",
   "metadata": {},
   "source": [
    "Tuple\n",
    "*수정불가 -> 새로운 tuple을 만들어서 사용해야 함."
   ]
  },
  {
   "cell_type": "code",
   "execution_count": 2,
   "metadata": {},
   "outputs": [
    {
     "name": "stdout",
     "output_type": "stream",
     "text": [
      "Number of animals in the zoo is 3\n",
      "('monkey', 'camel', ('python', 'elephant', 'penguin'))\n"
     ]
    }
   ],
   "source": [
    "zoo = ('python', 'elephant', 'penguin')\n",
    "print('Number of animals in the zoo is', len(zoo))\n",
    "\n",
    "new_zoo = 'monkey', 'camel', zoo\n",
    "print(new_zoo)"
   ]
  },
  {
   "cell_type": "code",
   "execution_count": 3,
   "metadata": {},
   "outputs": [
    {
     "name": "stdout",
     "output_type": "stream",
     "text": [
      "(1, 2, 3)\n",
      "1 2 3\n"
     ]
    }
   ],
   "source": [
    "def tmp():\n",
    "    return 1, 2, 3\n",
    "\n",
    "r1 = tmp()\n",
    "v1, v2, v3 = tmp()\n",
    "print(r1) # 튜플로 받아짐\n",
    "print(v1, v2, v3) # 값으로 받아짐"
   ]
  },
  {
   "cell_type": "code",
   "execution_count": 5,
   "metadata": {},
   "outputs": [
    {
     "name": "stdout",
     "output_type": "stream",
     "text": [
      "('aa', 1)\n",
      "1\n",
      "cc\n",
      "3\n"
     ]
    }
   ],
   "source": [
    "regions = [('aa', 1), ('bb', 2), ('cc', 3), ('dd', 4)]\n",
    "\n",
    "print(regions[0])\n",
    "\n",
    "print(regions[0][1])\n",
    "\n",
    "print(regions[2][0])\n",
    "print(regions[2][1])"
   ]
  },
  {
   "attachments": {},
   "cell_type": "markdown",
   "metadata": {},
   "source": [
    "References"
   ]
  },
  {
   "cell_type": "code",
   "execution_count": 8,
   "metadata": {},
   "outputs": [
    {
     "name": "stdout",
     "output_type": "stream",
     "text": [
      "Simple Assignment\n",
      "shoplist is:  ['mango', 'carrot', 'banana']\n",
      "mylist: ['mango', 'carrot', 'banana']\n",
      "Copy by making a full slice\n",
      "shoplist is:  ['carrot', 'banana']\n",
      "mylist: ['mango', 'carrot', 'banana']\n",
      "1821883577792\n",
      "1821883577792\n",
      "1821883571904\n"
     ]
    }
   ],
   "source": [
    "print('Simple Assignment')\n",
    "shoplist = ['apple', 'mango', 'carrot', 'banana']\n",
    "\n",
    "mylist = shoplist\n",
    "# 주소를 가리키고 있기 때문에~! 같은 값이 도출이 된다. \n",
    "# mylist랑 shoplist가 같은 주소를 가리키고 있기 때문.\n",
    "del mylist[0] \n",
    "\n",
    "print('shoplist is: ', shoplist)\n",
    "print('mylist:', mylist)\n",
    "\n",
    "print('Copy by making a full slice')\n",
    "copiedMylist = shoplist[:] # mylist가 지금 shoplist를 복사해서 다른 주소에 저장해서 사용.full slice로 값을 가져와서 새로운 주소에 저장\n",
    "\n",
    "del mylist[0]\n",
    "\n",
    "print('shoplist is: ', shoplist)\n",
    "print('mylist:', copiedMylist)\n",
    "\n",
    "print(id(shoplist))\n",
    "print(id(mylist))\n",
    "print(id(copiedMylist)) #얘만 주소가 다름을 알 수 있음\n"
   ]
  }
 ],
 "metadata": {
  "kernelspec": {
   "display_name": "Python 3",
   "language": "python",
   "name": "python3"
  },
  "language_info": {
   "codemirror_mode": {
    "name": "ipython",
    "version": 3
   },
   "file_extension": ".py",
   "mimetype": "text/x-python",
   "name": "python",
   "nbconvert_exporter": "python",
   "pygments_lexer": "ipython3",
   "version": "3.11.4"
  },
  "orig_nbformat": 4
 },
 "nbformat": 4,
 "nbformat_minor": 2
}
