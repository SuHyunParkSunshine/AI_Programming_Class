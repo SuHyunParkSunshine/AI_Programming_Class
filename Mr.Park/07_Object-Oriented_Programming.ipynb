{
 "cells": [
  {
   "cell_type": "markdown",
   "metadata": {},
   "source": [
    "# Classes and Objects"
   ]
  },
  {
   "cell_type": "code",
   "execution_count": 1,
   "metadata": {},
   "outputs": [
    {
     "name": "stdout",
     "output_type": "stream",
     "text": [
      "Width: 4\n",
      "Height: 5\n"
     ]
    }
   ],
   "source": [
    "import userDefClass.rectangle as rt\n",
    "\n",
    "r = rt.Rectangle(4, 5)\n",
    "\n",
    "print(r)"
   ]
  },
  {
   "cell_type": "markdown",
   "metadata": {},
   "source": [
    "# Inheritance"
   ]
  },
  {
   "cell_type": "code",
   "execution_count": 8,
   "metadata": {},
   "outputs": [
    {
     "name": "stdout",
     "output_type": "stream",
     "text": [
      "Park\tD\n",
      "Lee\tPass\n"
     ]
    },
    {
     "ename": "AttributeError",
     "evalue": "'LGstudent' object has no attribute 'SECRETNUMBER'",
     "output_type": "error",
     "traceback": [
      "\u001b[1;31m---------------------------------------------------------------------------\u001b[0m",
      "\u001b[1;31mAttributeError\u001b[0m                            Traceback (most recent call last)",
      "Cell \u001b[1;32mIn[8], line 9\u001b[0m\n\u001b[0;32m      7\u001b[0m \u001b[39mprint\u001b[39m(lgstu)\n\u001b[0;32m      8\u001b[0m \u001b[39mprint\u001b[39m(pfstu)\n\u001b[1;32m----> 9\u001b[0m \u001b[39mprint\u001b[39m(lgstu\u001b[39m.\u001b[39;49mSECRETNUMBER)\n\u001b[0;32m     10\u001b[0m \u001b[39m# pfstu.do_something()\u001b[39;00m\n\u001b[0;32m     12\u001b[0m st\u001b[39m.\u001b[39mPFstudent\u001b[39m.\u001b[39mdo_something()\n",
      "\u001b[1;31mAttributeError\u001b[0m: 'LGstudent' object has no attribute 'SECRETNUMBER'"
     ]
    }
   ],
   "source": [
    "import userDefClass.student as st\n",
    "\n",
    "# stu = st.Student(\"Kim\", 10, 20)\n",
    "lgstu = st.LGstudent('Park', 50, 80)\n",
    "pfstu = st.PFstudent('Lee', 40, 90)\n",
    "\n",
    "print(lgstu)\n",
    "print(pfstu)\n",
    "print(lgstu.SECRETNUMBER)\n",
    "# pfstu.do_something()\n",
    "\n",
    "st.PFstudent.do_something()\n",
    "\n",
    "# print(stu)\n",
    "\n",
    "# abstract를 한 경우, 상속받은 것만 사용할 수 있다(?)"
   ]
  },
  {
   "cell_type": "markdown",
   "metadata": {},
   "source": [
    "# Adding new Instance Variavles to a Subclass"
   ]
  },
  {
   "cell_type": "code",
   "execution_count": 7,
   "metadata": {},
   "outputs": [
    {
     "name": "stdout",
     "output_type": "stream",
     "text": [
      "I am a parent\n",
      "I am a child\n",
      "I am a parent\n",
      "--------------------------------------------------\n",
      "temp parent\n",
      "temp child\n"
     ]
    }
   ],
   "source": [
    "class Parent:\n",
    "    def __init__(self):\n",
    "        self._parent = 'I am a parent'\n",
    "        self._temp = 'temp parent'\n",
    "\n",
    "class Child(Parent):\n",
    "    def __init__(self):\n",
    "        super().__init__() # 해당 코드의 위치가 변경이 될 경우, 때에 따라 문제가 생길 수 있음으로 항상 처음 라인에 작성하는 것을 추천\n",
    "        self._temp = 'temp child'\n",
    "        self._child = 'I am a child'\n",
    "\n",
    "p = Parent()\n",
    "c = Child()\n",
    "\n",
    "print(p._parent)\n",
    "print(c._child)\n",
    "print(c._parent)\n",
    "print('-' * 50)\n",
    "print(p._temp)\n",
    "print(c._temp)"
   ]
  },
  {
   "cell_type": "markdown",
   "metadata": {},
   "source": [
    "# Multiple Inheritance"
   ]
  },
  {
   "cell_type": "code",
   "execution_count": 12,
   "metadata": {},
   "outputs": [
    {
     "name": "stdout",
     "output_type": "stream",
     "text": [
      "I am A\n",
      "I am B\n",
      "I am A\n",
      "I am B\n",
      "I am E\n",
      "(<class '__main__.E'>, <class '__main__.B'>, <class '__main__.A'>, <class 'object'>)\n",
      "(<class '__main__.J'>, <class '__main__.H'>, <class '__main__.F'>, <class '__main__.G'>, <class '__main__.I'>, <class '__main__.E'>, <class '__main__.B'>, <class '__main__.A'>, <class 'object'>)\n"
     ]
    }
   ],
   "source": [
    "class A:\n",
    "    def print():\n",
    "        print('I am A')\n",
    "\n",
    "class B:\n",
    "    def print():\n",
    "        print('I am B')\n",
    "\n",
    "class C(A, B):\n",
    "    pass\n",
    "\n",
    "class D(B, A): # 순서상 왼쪽이 우선함 \n",
    "    pass\n",
    "\n",
    "class E(B, A):\n",
    "    def print():\n",
    "        print('I am E')\n",
    "\n",
    "class F:\n",
    "    def print():\n",
    "        print('I am F')\n",
    "\n",
    "class G:\n",
    "    def print():\n",
    "        print('I am G')\n",
    "\n",
    "class H(F, G):\n",
    "    def print():\n",
    "        print('I am H')\n",
    "\n",
    "class I(E):\n",
    "    def print():\n",
    "        print('I am I')\n",
    "class J(H, I):\n",
    "    def print():\n",
    "        print('I am J')\n",
    "\n",
    "A.print()\n",
    "B.print()\n",
    "C.print()\n",
    "D.print()\n",
    "E.print() # 본인의 내부 함수가 우선하고 그 다음 가까운 부모 클래스를 찾는다.\n",
    "\n",
    "print(E.__mro__) # 이 매소드를 찾아갈때 순서를 알 수 있음 E -> B -> A -> object(가장 최상위 클래스, 모든 클래스의 어버이)\n",
    "print(J.__mro__)"
   ]
  }
 ],
 "metadata": {
  "kernelspec": {
   "display_name": "Python 3",
   "language": "python",
   "name": "python3"
  },
  "language_info": {
   "codemirror_mode": {
    "name": "ipython",
    "version": 3
   },
   "file_extension": ".py",
   "mimetype": "text/x-python",
   "name": "python",
   "nbconvert_exporter": "python",
   "pygments_lexer": "ipython3",
   "version": "3.11.4"
  },
  "orig_nbformat": 4
 },
 "nbformat": 4,
 "nbformat_minor": 2
}
