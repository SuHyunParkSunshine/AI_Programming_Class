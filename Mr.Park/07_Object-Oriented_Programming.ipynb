{
 "cells": [
  {
   "cell_type": "markdown",
   "metadata": {},
   "source": [
    "# Classes and Objects"
   ]
  },
  {
   "cell_type": "code",
   "execution_count": 1,
   "metadata": {},
   "outputs": [
    {
     "name": "stdout",
     "output_type": "stream",
     "text": [
      "Width: 4\n",
      "Height: 5\n"
     ]
    }
   ],
   "source": [
    "import userDefClass.rectangle as rt\n",
    "\n",
    "r = rt.Rectangle(4, 5)\n",
    "\n",
    "print(r)"
   ]
  },
  {
   "cell_type": "markdown",
   "metadata": {},
   "source": [
    "# Inheritance"
   ]
  },
  {
   "cell_type": "code",
   "execution_count": 8,
   "metadata": {},
   "outputs": [
    {
     "name": "stdout",
     "output_type": "stream",
     "text": [
      "Park\tD\n",
      "Lee\tPass\n"
     ]
    },
    {
     "ename": "AttributeError",
     "evalue": "'LGstudent' object has no attribute 'SECRETNUMBER'",
     "output_type": "error",
     "traceback": [
      "\u001b[1;31m---------------------------------------------------------------------------\u001b[0m",
      "\u001b[1;31mAttributeError\u001b[0m                            Traceback (most recent call last)",
      "Cell \u001b[1;32mIn[8], line 9\u001b[0m\n\u001b[0;32m      7\u001b[0m \u001b[39mprint\u001b[39m(lgstu)\n\u001b[0;32m      8\u001b[0m \u001b[39mprint\u001b[39m(pfstu)\n\u001b[1;32m----> 9\u001b[0m \u001b[39mprint\u001b[39m(lgstu\u001b[39m.\u001b[39;49mSECRETNUMBER)\n\u001b[0;32m     10\u001b[0m \u001b[39m# pfstu.do_something()\u001b[39;00m\n\u001b[0;32m     12\u001b[0m st\u001b[39m.\u001b[39mPFstudent\u001b[39m.\u001b[39mdo_something()\n",
      "\u001b[1;31mAttributeError\u001b[0m: 'LGstudent' object has no attribute 'SECRETNUMBER'"
     ]
    }
   ],
   "source": [
    "import userDefClass.student as st\n",
    "\n",
    "# stu = st.Student(\"Kim\", 10, 20)\n",
    "lgstu = st.LGstudent('Park', 50, 80)\n",
    "pfstu = st.PFstudent('Lee', 40, 90)\n",
    "\n",
    "print(lgstu)\n",
    "print(pfstu)\n",
    "print(lgstu.SECRETNUMBER)\n",
    "# pfstu.do_something()\n",
    "\n",
    "st.PFstudent.do_something()\n",
    "\n",
    "# print(stu)\n",
    "\n",
    "# abstract를 한 경우, 상속받은 것만 사용할 수 있다(?)"
   ]
  }
 ],
 "metadata": {
  "kernelspec": {
   "display_name": "Python 3",
   "language": "python",
   "name": "python3"
  },
  "language_info": {
   "codemirror_mode": {
    "name": "ipython",
    "version": 3
   },
   "file_extension": ".py",
   "mimetype": "text/x-python",
   "name": "python",
   "nbconvert_exporter": "python",
   "pygments_lexer": "ipython3",
   "version": "3.11.4"
  },
  "orig_nbformat": 4
 },
 "nbformat": 4,
 "nbformat_minor": 2
}
