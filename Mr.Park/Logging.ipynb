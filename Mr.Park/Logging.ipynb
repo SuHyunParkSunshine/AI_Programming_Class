{
 "cells": [
  {
   "cell_type": "markdown",
   "metadata": {},
   "source": [
    "# 로깅\n",
    "* 프로그램을 작성할 때 간단히 함수 호출 상태나 함수의 리턴 값 등을 확인하기 위해서 print를 사용.\n",
    "* But, 파이썬의 logging 모듈을 사용하면 print 함수를 사용하거나 파일 입출력을 사용하는 것보다 편리하게 로깅 할 수 있습니다."
   ]
  },
  {
   "cell_type": "code",
   "execution_count": 1,
   "metadata": {},
   "outputs": [
    {
     "name": "stdout",
     "output_type": "stream",
     "text": [
      "10 20 30\n"
     ]
    },
    {
     "data": {
      "text/plain": [
       "30"
      ]
     },
     "execution_count": 1,
     "metadata": {},
     "output_type": "execute_result"
    }
   ],
   "source": [
    "def add(a, b):\n",
    "    ret = a + b\n",
    "    print(a, b, ret)\n",
    "    return ret\n",
    "add(10, 20)"
   ]
  },
  {
   "cell_type": "code",
   "execution_count": 1,
   "metadata": {},
   "outputs": [
    {
     "name": "stderr",
     "output_type": "stream",
     "text": [
      "DEBUG:root:Debug:30\n",
      "INFO:root:Info:30\n",
      "WARNING:root:Warning:30\n",
      "ERROR:root:Error:30\n",
      "CRITICAL:root:Critical:30\n"
     ]
    },
    {
     "data": {
      "text/plain": [
       "30"
      ]
     },
     "execution_count": 1,
     "metadata": {},
     "output_type": "execute_result"
    }
   ],
   "source": [
    "import logging\n",
    "\n",
    "logging.basicConfig(level=logging.DEBUG)     # 요 코드가 있어야 출력이 나온다. 출력 나왔다 안 나왔다 컨트롤. 디버깅 할꼬야 -> 출력/ 안할꼬야 -> 안출력\n",
    "\n",
    "def add(a, b):\n",
    "    ret = a + b\n",
    "    # print(a, b, ret)\n",
    "    logging.debug(f'Debug:{ret}')\n",
    "    logging.info(f'Info:{ret}')\n",
    "    logging.warning(f'Warning:{ret}')\n",
    "    logging.error(f'Error:{ret}')\n",
    "    logging.critical(f'Critical:{ret}')\n",
    "    return ret\n",
    "add(10, 20)"
   ]
  },
  {
   "cell_type": "code",
   "execution_count": 1,
   "metadata": {},
   "outputs": [],
   "source": [
    "import logging\n",
    "\n",
    "logging.basicConfig(filename=\"mylog.txt\", level=logging.INFO)\n",
    "\n",
    "def hap(a, b):\n",
    "    ret = a + b\n",
    "    logging.info(f\"input: {a} {b}, output={ret}\")\n",
    "    return ret\n",
    "\n",
    "result = hap(3, 4)"
   ]
  }
 ],
 "metadata": {
  "kernelspec": {
   "display_name": "Python 3",
   "language": "python",
   "name": "python3"
  },
  "language_info": {
   "codemirror_mode": {
    "name": "ipython",
    "version": 3
   },
   "file_extension": ".py",
   "mimetype": "text/x-python",
   "name": "python",
   "nbconvert_exporter": "python",
   "pygments_lexer": "ipython3",
   "version": "3.11.4"
  },
  "orig_nbformat": 4
 },
 "nbformat": 4,
 "nbformat_minor": 2
}
