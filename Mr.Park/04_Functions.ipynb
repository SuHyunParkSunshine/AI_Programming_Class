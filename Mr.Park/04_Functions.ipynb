{
 "cells": [
  {
   "cell_type": "code",
   "execution_count": 6,
   "metadata": {},
   "outputs": [
    {
     "name": "stdout",
     "output_type": "stream",
     "text": [
      "Help on function simple_function in module __main__:\n",
      "\n",
      "simple_function()\n",
      "    This is a simple function\n",
      "\n",
      " This is a simple function\n",
      "--------------------------------------------------\n",
      "None\n",
      "--------------------------------------------------\n",
      "abc\n",
      "None\n"
     ]
    }
   ],
   "source": [
    "def simple_function():\n",
    "    \"\"\" This is a simple function\"\"\"\n",
    "    x = 1\n",
    "    # return None\n",
    "    # return\n",
    "help(simple_function)\n",
    "print(simple_function.__doc__)\n",
    "print('-' * 50)\n",
    "\n",
    "r = simple_function()\n",
    "print(r)\n",
    "print('-' * 50)\n",
    "\n",
    "# print의 return 값 => print는 return 값이 없다.\n",
    "return_print = print('abc')\n",
    "print(return_print)"
   ]
  },
  {
   "cell_type": "markdown",
   "metadata": {},
   "source": [
    "# 변수의 범위(Scope of Variables)\n",
    "* Global variable(전역 변수): 우리가 실행하는 \"프로그램\"\n",
    "* Local variable: 함수 안에서 만들어진 변수"
   ]
  },
  {
   "cell_type": "code",
   "execution_count": 8,
   "metadata": {},
   "outputs": [
    {
     "name": "stdout",
     "output_type": "stream",
     "text": [
      "Global x before mian:  50\n",
      "x is  50\n",
      "x is now  10\n",
      "x:  10\n",
      "Global x after main:  10\n"
     ]
    }
   ],
   "source": [
    "x = 50\n",
    "y = 20\n",
    "\n",
    "def main():\n",
    "    func()\n",
    "    print(\"x: \", x)\n",
    "\n",
    "def func():\n",
    "    global x, y    # 글로벌 변수임을 알린다.\n",
    "    print('x is ', x)\n",
    "    x = 10\n",
    "    print('x is now ', x)\n",
    "\n",
    "print('Global x before mian: ', x)\n",
    "main()\n",
    "print('Global x after main: ', x)"
   ]
  },
  {
   "cell_type": "code",
   "execution_count": null,
   "metadata": {},
   "outputs": [],
   "source": [
    "# Named constant(상수)\n",
    "INTEREST_RATE = 0.04 #-> Named constant, 상수는 주로 대문자로 선언\n",
    "MINIMUM_VOTING_AGE = 18 #-> Named constant"
   ]
  },
  {
   "cell_type": "code",
   "execution_count": 11,
   "metadata": {},
   "outputs": [
    {
     "name": "stdout",
     "output_type": "stream",
     "text": [
      "Sorted by length in ascending order: \n",
      "['two', 'brrr', 'break', 'equals', 'sequoia', 'democratic'] \n",
      "\n",
      "Sorted by number of vowels in descending order: \n",
      "['sequoia', 'democratic', 'equals', 'break', 'two', 'brrr']\n"
     ]
    }
   ],
   "source": [
    "def main():\n",
    "    list1 = [\"democratic\", \"sequoia\", \"equals\", \"brrr\", \"break\", \"two\"]\n",
    "    list1.sort(key=len) # 길이가 sorting의 기준이 됨(key=len)\n",
    "    print(\"Sorted by length in ascending order: \")\n",
    "    print(list1, '\\n')\n",
    "    list1.sort(key=numberOfVowels, reverse=True) # 모음의 갯수가 sorting의 기준이 됨(key=numberOfVowels)\n",
    "    print(\"Sorted by number of vowels in descending order: \")\n",
    "    print(list1)\n",
    "\n",
    "def numberOfVowels(word):\n",
    "    vowels = ('a', 'e', 'i', 'o', 'u') # 튜플\n",
    "    total = 0\n",
    "    for vowel in vowels:\n",
    "        total += word.count(vowel) # 'count' 이 녀석이 몇개 있는지 반환해주는 함수(단어 속에 모음의 수를 반환)\n",
    "    return total\n",
    "main()"
   ]
  },
  {
   "cell_type": "code",
   "execution_count": 13,
   "metadata": {},
   "outputs": [
    {
     "name": "stdout",
     "output_type": "stream",
     "text": [
      "['blue', 'red', 'white']\n",
      "--------------------------------------------------\n",
      "['white', 'red', 'blue']\n",
      "--------------------------------------------------\n",
      "['red', 'blue', 'white']\n",
      "--------------------------------------------------\n",
      "['white', 'blue', 'red']\n",
      "--------------------------------------------------\n",
      "['a', 'm', 'p', 's']\n"
     ]
    }
   ],
   "source": [
    "list1 = ['white', 'blue', 'red']\n",
    "list2 = sorted(list1)\n",
    "print(list2)\n",
    "print('-' * 50)\n",
    "print(sorted(list1, reverse=True))\n",
    "print('-' * 50)\n",
    "print(sorted(list1, key=len))\n",
    "print('-' * 50)\n",
    "print(list1)\n",
    "print('-' * 50)\n",
    "print(sorted('spam'))"
   ]
  },
  {
   "cell_type": "markdown",
   "metadata": {},
   "source": [
    "# Library Modules\n",
    "* 함수나 변수를 가져다 쓸 수 있도록 정의 되어 있다.\n",
    "* 우리가 만든 파일도 하나의 라이브러리, 파일\n",
    "* import module\n",
    "* 모듈이라는 것은 덩어리\n",
    "* 함수이름 앞에다가 .(period) 붙여서 불러서 사용하면 됨\n",
    "* 라이브러리 불러오는 방법<br>\n",
    "(1) from random import randint, choice => 모든 것을 불러오면 메모리, 용량이 커지기 때문에 비효율적일 수 있어서 필요한 기능만 불러서 사용가능<br>\n",
    "(2) from random import *<br>\n",
    "(3) import random<br>\n",
    "=> 2, 3번 차이: 기능적으로는 같음, 한 가지 다른 점은 import *을 하는 경우에는 period(.) 없이 함수명만 불러서 사용가능, 이미 all을 import해서 함수를 다 들고 왔기 때문/ but import random은 그냥 random 라이브러리만 해온 거기 때문에 period(.)함수명 필요\n",
    "\n",
    "* pdb => cmd에서 디버깅 할떄 사용하는 라이브러리"
   ]
  },
  {
   "cell_type": "markdown",
   "metadata": {},
   "source": [
    "# List Comprehension\n",
    "* 새로운 리스트를 만드는 것?\n"
   ]
  },
  {
   "cell_type": "code",
   "execution_count": 16,
   "metadata": {},
   "outputs": [
    {
     "name": "stdout",
     "output_type": "stream",
     "text": [
      "[]:  [2, 5, 6, 7]\n",
      "list:  [2, 5, 6, 7]\n",
      "--------------------------------------------------\n",
      "[4, 25, 36, 49]\n",
      "--------------------------------------------------\n",
      "[25, 49]\n"
     ]
    }
   ],
   "source": [
    "list1 = ['2', '5', '6', '7']\n",
    "\n",
    "print('[]: ', [int(x) for x in list1]) # for문을 돌아서 그 값들은 [] 리스트로 만들어 달라\n",
    "print('list: ', list(int(x) for x in list1)) # 상기의 코드와 같은 코드 다른 방법\n",
    "print('-' * 50)\n",
    "\n",
    "def g(x):\n",
    "    return(int(x) ** 2)\n",
    "\n",
    "print([g(x) for x in list1])\n",
    "print('-' * 50)\n",
    "\n",
    "print([g(x) for x in list1 if int(x) % 2 == 1]) # 홀수 일 때만 해라, 조건까지 걸 수 있음"
   ]
  },
  {
   "cell_type": "code",
   "execution_count": 17,
   "metadata": {},
   "outputs": [
    {
     "name": "stdout",
     "output_type": "stream",
     "text": [
      "97\n",
      "A\n"
     ]
    }
   ],
   "source": [
    "print(ord('a')) # 아스키 코드를 값으로 변환\n",
    "print(chr(65)) # 값을 아스키코드로 변환"
   ]
  },
  {
   "cell_type": "markdown",
   "metadata": {},
   "source": [
    "# Default Argument Values"
   ]
  },
  {
   "cell_type": "markdown",
   "metadata": {},
   "source": [
    "# Keyword Arguments"
   ]
  },
  {
   "cell_type": "code",
   "execution_count": 18,
   "metadata": {},
   "outputs": [
    {
     "name": "stdout",
     "output_type": "stream",
     "text": [
      "a is  3 and b is  7 and c is  10\n",
      "a is  25 and b is  5 and c is  24\n",
      "a is  100 and b is  5 and c is  50\n"
     ]
    }
   ],
   "source": [
    "# 이름을 이용해서 값을 주는 방법\n",
    "\n",
    "def main():\n",
    "    func(3, 7)\n",
    "    func(25, c=24)\n",
    "    func(c=50, a=100) # 자리의 위치에 관계 없이 keyword를 명시해 주었음으로 값이 제대로 들어간다\n",
    "\n",
    "def func(a, b=5, c=10):\n",
    "    print('a is ', a, 'and b is ', b, 'and c is ', c)\n",
    "\n",
    "main()"
   ]
  }
 ],
 "metadata": {
  "kernelspec": {
   "display_name": "Python 3",
   "language": "python",
   "name": "python3"
  },
  "language_info": {
   "codemirror_mode": {
    "name": "ipython",
    "version": 3
   },
   "file_extension": ".py",
   "mimetype": "text/x-python",
   "name": "python",
   "nbconvert_exporter": "python",
   "pygments_lexer": "ipython3",
   "version": "3.11.4"
  },
  "orig_nbformat": 4
 },
 "nbformat": 4,
 "nbformat_minor": 2
}
