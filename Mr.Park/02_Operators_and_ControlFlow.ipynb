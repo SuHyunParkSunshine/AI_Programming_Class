{
 "cells": [
  {
   "cell_type": "code",
   "execution_count": 1,
   "metadata": {},
   "outputs": [
    {
     "data": {
      "text/plain": [
       "True"
      ]
     },
     "execution_count": 1,
     "metadata": {},
     "output_type": "execute_result"
    }
   ],
   "source": [
    "#5 > 3 and 3 < 7 이런 뜻\n",
    "#5랑 7은 전혀 상관이 없음\n",
    "5 > 3 < 7"
   ]
  },
  {
   "cell_type": "code",
   "execution_count": 4,
   "metadata": {},
   "outputs": [
    {
     "ename": "ZeroDivisionError",
     "evalue": "division by zero",
     "output_type": "error",
     "traceback": [
      "\u001b[1;31m---------------------------------------------------------------------------\u001b[0m",
      "\u001b[1;31mZeroDivisionError\u001b[0m                         Traceback (most recent call last)",
      "Cell \u001b[1;32mIn[4], line 8\u001b[0m\n\u001b[0;32m      5\u001b[0m (n \u001b[39m!=\u001b[39m \u001b[39m0\u001b[39m) \u001b[39mand\u001b[39;00m (l \u001b[39m==\u001b[39m (m\u001b[39m/\u001b[39mn)) \u001b[39m#0으로 나눌수 없음. and를 붙이는 순간 ZeroDivisionError가 안 뜸\u001b[39;00m\n\u001b[0;32m      6\u001b[0m \u001b[39m#상기의 경우, 첫 조건이 False 임으로 뒤가 False든지 True든지 뭐든지 일단 값이 False가 나옴으로 결과값이 False가 나옴, 뒤의 식을 계산하지 않음\u001b[39;00m\n\u001b[0;32m      7\u001b[0m \u001b[39m#m/n # 이 경우에는 ZeroDivisionError 가 뜸\u001b[39;00m\n\u001b[1;32m----> 8\u001b[0m (l \u001b[39m==\u001b[39m (m\u001b[39m/\u001b[39;49mn)) \u001b[39mand\u001b[39;00m (n \u001b[39m!=\u001b[39m \u001b[39m0\u001b[39m)\n",
      "\u001b[1;31mZeroDivisionError\u001b[0m: division by zero"
     ]
    }
   ],
   "source": [
    "#short-circuit evaluation\n",
    "l = 10\n",
    "m = 5\n",
    "n = 0\n",
    "(n != 0) and (l == (m/n)) #0으로 나눌수 없음. and를 붙이는 순간 ZeroDivisionError가 안 뜸\n",
    "#상기의 경우, 첫 조건이 False 임으로 뒤가 False든지 True든지 뭐든지 일단 값이 False가 나옴으로 결과값이 False가 나옴, 뒤의 식을 계산하지 않음\n",
    "#m/n # 이 경우에는 ZeroDivisionError 가 뜸\n",
    "(l == (m/n)) and (n != 0)\n",
    "#상기의 경우, 앞이 먼저 계산되는데 에러가 있기 때문에 순서에 따라 다른 결과가 도출된다."
   ]
  },
  {
   "cell_type": "code",
   "execution_count": 7,
   "metadata": {},
   "outputs": [
    {
     "name": "stdout",
     "output_type": "stream",
     "text": [
      "Correct\n"
     ]
    }
   ],
   "source": [
    "number = 23\n",
    "guess = int(input('Enter an integer: '))\n",
    "\n",
    "if guess == number:\n",
    "    print('Correct')\n",
    "else:\n",
    "    if guess < number:\n",
    "        print('Incorrect!! it is a little higher than that')\n",
    "    else:\n",
    "        print('Incorrect! it is a little lower than that')\n",
    "print('Done')"
   ]
  },
  {
   "cell_type": "code",
   "execution_count": 10,
   "metadata": {},
   "outputs": [
    {
     "name": "stdout",
     "output_type": "stream",
     "text": [
      "input number:  23\n",
      "Correct\n",
      "Done\n"
     ]
    }
   ],
   "source": [
    "#elif 사용\n",
    "number = 23\n",
    "guess = int(input('Enter an integer: '))\n",
    "print('input number: ', guess)\n",
    "\n",
    "if guess == number:\n",
    "    print('Correct')\n",
    "elif guess < number:\n",
    "        print('Incorrect!! it is a little higher than that')\n",
    "else:\n",
    "    print('Incorrect! it is a little lower than that')\n",
    "print('Done')"
   ]
  },
  {
   "attachments": {},
   "cell_type": "markdown",
   "metadata": {},
   "source": [
    "* The while Loop"
   ]
  },
  {
   "cell_type": "code",
   "execution_count": 1,
   "metadata": {},
   "outputs": [
    {
     "name": "stdout",
     "output_type": "stream",
     "text": [
      "No, it is a little higher than that\n",
      "No, it is a little lower than that\n",
      "Congratulation, you guessed it\n",
      "The wile loop is over\n",
      "Done\n"
     ]
    }
   ],
   "source": [
    "number = 23\n",
    "running = True\n",
    "\n",
    "while running:\n",
    "    guess = int(input('Enter an integer: '))\n",
    "    if guess == number:\n",
    "        print('Congratulation, you guessed it')\n",
    "        running = False\n",
    "        break\n",
    "    elif guess < number:\n",
    "        print('No, it is a little higher than that')\n",
    "    else:\n",
    "        print('No, it is a little lower than that')\n",
    "else:\n",
    "    print('The wile loop is over')\n",
    "print('Done')"
   ]
  },
  {
   "cell_type": "code",
   "execution_count": 5,
   "metadata": {},
   "outputs": [
    {
     "name": "stdout",
     "output_type": "stream",
     "text": [
      "(Enter -1 to terminate entering numbers.)\n",
      "입력하신 번호들이 5개 이상입니다.\n",
      "입력하신 번호들의 개수는  7 개 입니다.\n",
      "Minimum:  3\n",
      "Maximum:  8\n",
      "Average:  5.714285714285714\n"
     ]
    }
   ],
   "source": [
    "count = 0\n",
    "total = 0\n",
    "\n",
    "print('(Enter -1 to termin_valate entering numbers.)')\n",
    "num = int(input('Enter a nonnegative integer: '))\n",
    "min_val = num\n",
    "min_val = num\n",
    "\n",
    "while num != -1:\n",
    "    count += 1\n",
    "    total += num\n",
    "    if num < min_val:\n",
    "        min_val = num\n",
    "    if num > min_val:\n",
    "        min_val = num\n",
    "    num = int(input('Enter a nonnegative integer: '))\n",
    "\n",
    "if count > 4:\n",
    "    print('입력하신 번호들이 5개 이상입니다.')\n",
    "    print('입력하신 번호들의 개수는 ', count, '개 입니다.')\n",
    "\n",
    "if count > 0:\n",
    "    print('Min_valmin_valimum: ', min_val)\n",
    "    print('min_valimum: ', min_val)\n",
    "    print('Average: ', total / count)\n",
    "else:\n",
    "    print('No nonnegative integers were entered.')"
   ]
  },
  {
   "attachments": {},
   "cell_type": "markdown",
   "metadata": {},
   "source": [
    "* The for Loop(몇 번 돌지 정할 수 있음)"
   ]
  },
  {
   "cell_type": "code",
   "execution_count": 20,
   "metadata": {},
   "outputs": [
    {
     "name": "stdout",
     "output_type": "stream",
     "text": [
      "*++++\n",
      "**+++\n",
      "***++\n",
      "****+\n",
      "*****\n",
      "****+\n",
      "***++\n",
      "**+++\n",
      "*++++\n",
      "+++++\n"
     ]
    }
   ],
   "source": [
    "# Nested for loops\n",
    "\n",
    "numberOfRows = int(input('Enter a number from 1 to 20: '))\n",
    "\n",
    "for i in range(numberOfRows):\n",
    "    for j in range(i + 1):\n",
    "        print('*', end='')\n",
    "    for j in range(numberOfRows - (i+1)):\n",
    "        print('+', end='')  \n",
    "    print()\n",
    "\n",
    "for i in range(numberOfRows):\n",
    "    for j in range(numberOfRows - (i+1)):\n",
    "        print('*', end='')\n",
    "    for j in range(i + 1):\n",
    "        print('+', end='')  \n",
    "    print()"
   ]
  },
  {
   "cell_type": "code",
   "execution_count": 42,
   "metadata": {},
   "outputs": [
    {
     "name": "stdout",
     "output_type": "stream",
     "text": [
      "abcdfe\n"
     ]
    }
   ],
   "source": [
    "#Lopping through the characters of a string\n",
    "\n",
    "word = input('Enter a word: ')\n",
    "reversedWord = ''\n",
    "\n",
    "#for 문 돌리기\n",
    "# for ch in word:\n",
    "#     reversedWord = ch + reversedWord\n",
    "# print('The reversed word is ' + reversedWord)\n",
    "\n",
    "#내장함수 사용\n",
    "# ''.join: 빈 리스트에 채워넣어라\n",
    "# print(''.join(list(reversed(word))))\n",
    "\n",
    "# print(word[::-1]) #처음부터 끝까지 가는데 꺼꾸로 가라!!\n",
    "x = len(word)\n",
    "# print(word[x-1:2:-1])\n",
    "#문제: 끝의 2개 글자만 순서 바꾸기(abcde -> abced)\n",
    "# print(word[:x-2] + word[x-1:2:-1])\n",
    "rvdWord = word[:-2] + word[-1:-3:-1]\n",
    "print(rvdWord)"
   ]
  },
  {
   "cell_type": "code",
   "execution_count": 32,
   "metadata": {},
   "outputs": [
    {
     "name": "stdout",
     "output_type": "stream",
     "text": [
      "123\n",
      "456\n",
      "abcde\n"
     ]
    }
   ],
   "source": [
    "infile = open('textFile.txt', 'r')\n",
    "\n",
    "for s in infile:\n",
    "    # print(s, end='')\n",
    "    print(s.rstrip())\n",
    "\n",
    "infile.close()"
   ]
  },
  {
   "cell_type": "code",
   "execution_count": null,
   "metadata": {},
   "outputs": [],
   "source": [
    "infile = open('USPresidents.txt', 'r')\n",
    "for line in infile:\n",
    "    pass # for문에서 아무 것도 안 하고 싶음을 알려줘야 한다. for문에 아무것도 안 들어 있으면 문법적 오류가 생김\n",
    "print(line.rstrip())\n",
    "infile.close()"
   ]
  },
  {
   "attachments": {},
   "cell_type": "markdown",
   "metadata": {},
   "source": [
    "The break Statement"
   ]
  },
  {
   "attachments": {},
   "cell_type": "markdown",
   "metadata": {},
   "source": [
    "The continue Statement -> 다시 처음 루프로 돌아가라는 뜻"
   ]
  },
  {
   "cell_type": "code",
   "execution_count": 34,
   "metadata": {},
   "outputs": [
    {
     "name": "stdout",
     "output_type": "stream",
     "text": [
      "Input is of sufficient length\n",
      "Input is of sufficient length\n",
      "Input is of sufficient length\n"
     ]
    }
   ],
   "source": [
    "while True:\n",
    "    s = input('Enter something: ')\n",
    "    if s == 'quit':\n",
    "        break\n",
    "    if len(s) < 3:\n",
    "        print('Too short')\n",
    "        continue\n",
    "    print('Input is of sufficient length')"
   ]
  }
 ],
 "metadata": {
  "kernelspec": {
   "display_name": "Python 3",
   "language": "python",
   "name": "python3"
  },
  "language_info": {
   "codemirror_mode": {
    "name": "ipython",
    "version": 3
   },
   "file_extension": ".py",
   "mimetype": "text/x-python",
   "name": "python",
   "nbconvert_exporter": "python",
   "pygments_lexer": "ipython3",
   "version": "3.11.4"
  },
  "orig_nbformat": 4
 },
 "nbformat": 4,
 "nbformat_minor": 2
}
