{
 "cells": [
  {
   "cell_type": "code",
   "execution_count": 1,
   "metadata": {},
   "outputs": [
    {
     "data": {
      "text/plain": [
       "True"
      ]
     },
     "execution_count": 1,
     "metadata": {},
     "output_type": "execute_result"
    }
   ],
   "source": [
    "#5 > 3 and 3 < 7 이런 뜻\n",
    "#5랑 7은 전혀 상관이 없음\n",
    "5 > 3 < 7"
   ]
  },
  {
   "cell_type": "code",
   "execution_count": 4,
   "metadata": {},
   "outputs": [
    {
     "ename": "ZeroDivisionError",
     "evalue": "division by zero",
     "output_type": "error",
     "traceback": [
      "\u001b[1;31m---------------------------------------------------------------------------\u001b[0m",
      "\u001b[1;31mZeroDivisionError\u001b[0m                         Traceback (most recent call last)",
      "Cell \u001b[1;32mIn[4], line 8\u001b[0m\n\u001b[0;32m      5\u001b[0m (n \u001b[39m!=\u001b[39m \u001b[39m0\u001b[39m) \u001b[39mand\u001b[39;00m (l \u001b[39m==\u001b[39m (m\u001b[39m/\u001b[39mn)) \u001b[39m#0으로 나눌수 없음. and를 붙이는 순간 ZeroDivisionError가 안 뜸\u001b[39;00m\n\u001b[0;32m      6\u001b[0m \u001b[39m#상기의 경우, 첫 조건이 False 임으로 뒤가 False든지 True든지 뭐든지 일단 값이 False가 나옴으로 결과값이 False가 나옴, 뒤의 식을 계산하지 않음\u001b[39;00m\n\u001b[0;32m      7\u001b[0m \u001b[39m#m/n # 이 경우에는 ZeroDivisionError 가 뜸\u001b[39;00m\n\u001b[1;32m----> 8\u001b[0m (l \u001b[39m==\u001b[39m (m\u001b[39m/\u001b[39;49mn)) \u001b[39mand\u001b[39;00m (n \u001b[39m!=\u001b[39m \u001b[39m0\u001b[39m)\n",
      "\u001b[1;31mZeroDivisionError\u001b[0m: division by zero"
     ]
    }
   ],
   "source": [
    "#short-circuit evaluation\n",
    "l = 10\n",
    "m = 5\n",
    "n = 0\n",
    "(n != 0) and (l == (m/n)) #0으로 나눌수 없음. and를 붙이는 순간 ZeroDivisionError가 안 뜸\n",
    "#상기의 경우, 첫 조건이 False 임으로 뒤가 False든지 True든지 뭐든지 일단 값이 False가 나옴으로 결과값이 False가 나옴, 뒤의 식을 계산하지 않음\n",
    "#m/n # 이 경우에는 ZeroDivisionError 가 뜸\n",
    "(l == (m/n)) and (n != 0)\n",
    "#상기의 경우, 앞이 먼저 계산되는데 에러가 있기 때문에 순서에 따라 다른 결과가 도출된다."
   ]
  },
  {
   "cell_type": "code",
   "execution_count": 7,
   "metadata": {},
   "outputs": [
    {
     "name": "stdout",
     "output_type": "stream",
     "text": [
      "Correct\n"
     ]
    }
   ],
   "source": [
    "number = 23\n",
    "guess = int(input('Enter an integer: '))\n",
    "\n",
    "if guess == number:\n",
    "    print('Correct')\n",
    "else:\n",
    "    if guess < number:\n",
    "        print('Incorrect!! it is a little higher than that')\n",
    "    else:\n",
    "        print('Incorrect! it is a little lower than that')\n",
    "print('Done')"
   ]
  },
  {
   "cell_type": "code",
   "execution_count": 10,
   "metadata": {},
   "outputs": [
    {
     "name": "stdout",
     "output_type": "stream",
     "text": [
      "input number:  23\n",
      "Correct\n",
      "Done\n"
     ]
    }
   ],
   "source": [
    "#elif 사용\n",
    "number = 23\n",
    "guess = int(input('Enter an integer: '))\n",
    "print('input number: ', guess)\n",
    "\n",
    "if guess == number:\n",
    "    print('Correct')\n",
    "elif guess < number:\n",
    "        print('Incorrect!! it is a little higher than that')\n",
    "else:\n",
    "    print('Incorrect! it is a little lower than that')\n",
    "print('Done')"
   ]
  }
 ],
 "metadata": {
  "kernelspec": {
   "display_name": "Python 3",
   "language": "python",
   "name": "python3"
  },
  "language_info": {
   "codemirror_mode": {
    "name": "ipython",
    "version": 3
   },
   "file_extension": ".py",
   "mimetype": "text/x-python",
   "name": "python",
   "nbconvert_exporter": "python",
   "pygments_lexer": "ipython3",
   "version": "3.11.4"
  },
  "orig_nbformat": 4
 },
 "nbformat": 4,
 "nbformat_minor": 2
}
