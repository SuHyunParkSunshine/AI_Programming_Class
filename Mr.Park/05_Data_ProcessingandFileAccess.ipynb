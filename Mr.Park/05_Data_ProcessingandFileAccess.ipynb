{
 "cells": [
  {
   "cell_type": "markdown",
   "metadata": {},
   "source": [
    "# Reading Text Files"
   ]
  },
  {
   "cell_type": "code",
   "execution_count": 4,
   "metadata": {},
   "outputs": [
    {
     "name": "stdout",
     "output_type": "stream",
     "text": [
      "George Washington\n",
      "John Adams\n",
      "Thomas Jefferson\n"
     ]
    }
   ],
   "source": [
    "# For Loop\n",
    "def displayWithForLoop(file):\n",
    "    infile = open(file, 'r')\n",
    "    for line in infile:\n",
    "        print(line.rstrip()) # rstrip()을 하는 이유는 file에 마지막에 '\\n'이 있기 때문에 이걸 없애주려는 심산\n",
    "    infile.close()\n",
    "\n",
    "displayWithForLoop('data/FirstPresidents.txt')"
   ]
  },
  {
   "cell_type": "code",
   "execution_count": 5,
   "metadata": {},
   "outputs": [
    {
     "name": "stdout",
     "output_type": "stream",
     "text": [
      "['George Washington', 'John Adams', 'Thomas Jefferson']\n"
     ]
    }
   ],
   "source": [
    "# List Comprehension\n",
    "\n",
    "def displayWithListComprehension(file):\n",
    "    infile = open(file, 'r')\n",
    "    listPres = [line.rstrip() for line in infile]\n",
    "    infile.close()\n",
    "    print(listPres)\n",
    "\n",
    "displayWithListComprehension('data/FirstPresidents.txt')"
   ]
  },
  {
   "cell_type": "code",
   "execution_count": 6,
   "metadata": {},
   "outputs": [
    {
     "name": "stdout",
     "output_type": "stream",
     "text": [
      "George Washington\n",
      "John Adams\n",
      "Thomas Jefferson\n"
     ]
    }
   ],
   "source": [
    "# Readline\n",
    "\n",
    "def displayWithRealine(file):\n",
    "    infile = open(file, 'r')\n",
    "    line = infile.readline()\n",
    "    while line != \"\":\n",
    "        print(line.rstrip())\n",
    "        line = infile.readline()\n",
    "    infile.close()\n",
    "\n",
    "displayWithRealine('data/FirstPresidents.txt')"
   ]
  },
  {
   "cell_type": "markdown",
   "metadata": {},
   "source": [
    "# 파일 만들기"
   ]
  },
  {
   "cell_type": "code",
   "execution_count": 8,
   "metadata": {},
   "outputs": [],
   "source": [
    "def main():\n",
    "    L = [\"George Washington\", \"John Adams\", \"Thomas Jefferson\"]\n",
    "    outfile = open(\"data/FiFirstPresidents2.txt\", 'w')\n",
    "    createWithWrite(L, outfile)\n",
    "    outfile = open(\"data/FirstPresidents3.txt\", 'w')\n",
    "    createWithWritelines(L, outfile)\n",
    "\n",
    "def createWithWrite(L, outfile):\n",
    "    for i in range(len(L)):\n",
    "        outfile.write(L[i] + \"\\n\")\n",
    "    outfile.close()\n",
    "\n",
    "def createWithWritelines(L, outfile):\n",
    "    for i in range(len(L)):\n",
    "        L[i] = L[i] + \"\\n\"\n",
    "    outfile.writelines(L)\n",
    "    outfile.close()\n",
    "\n",
    "main()\n",
    "\n",
    "# 쓰기모드를 할때는 만약 파일의 제목이 같은데 넣으면 덮어쓰기 되서 데이터가 날아갈 수도 있으니 조심!!!"
   ]
  },
  {
   "cell_type": "code",
   "execution_count": 10,
   "metadata": {},
   "outputs": [],
   "source": [
    "def main():\n",
    "    vicePresList = createListFromFile(\"data/VPres.txt\")\n",
    "    createNewFile(vicePresList, \"data/USPres.txt\", \"data/Both.txt\")\n",
    "\n",
    "def createListFromFile(fileName):\n",
    "    infile = open(fileName, 'r')\n",
    "    desiredList = [line.rstrip() for line in infile]\n",
    "    infile.close()\n",
    "    return desiredList\n",
    "\n",
    "def createNewFile(listName, oldFileName, newFileName):\n",
    "    infile = open(oldFileName, 'r')\n",
    "    outfile = open(newFileName, 'w')\n",
    "    for person in infile:\n",
    "        if person.rstrip() in listName:\n",
    "            outfile.write(person)\n",
    "    infile.close()\n",
    "    outfile.close()\n",
    "\n",
    "main()"
   ]
  },
  {
   "cell_type": "markdown",
   "metadata": {},
   "source": [
    "# Sets\n",
    "+ 순서도 없고, 중복도 없다.\n",
    "+ 튜플만 들어갈수 있고, 리스트는 못 들어간다. 셋 안에 셋도 못 들어간다.\n",
    "+ 순서가 없으니까 인덱싱 안댐."
   ]
  },
  {
   "cell_type": "code",
   "execution_count": 18,
   "metadata": {},
   "outputs": [
    {
     "data": {
      "text/plain": [
       "{'brazil', 'china', 'india', 'russia'}"
      ]
     },
     "execution_count": 18,
     "metadata": {},
     "output_type": "execute_result"
    }
   ],
   "source": [
    "bri = {'brazil', 'russia', 'india'}\n",
    "'brazil' in bri\n",
    "'usa' in bri\n",
    "\n",
    "bric = bri.copy()\n",
    "bric.add('china')\n",
    "bri.remove('russia')\n",
    "bri\n",
    "bric\n",
    "bric.issuperset(bri) #or bri.issubset(bric)\n",
    "bri & bric #or bri.intersection(bric)\n",
    "bric.difference(bri) #or bric - bri => 차집합\n",
    "bric.union(bri) #or bric | bri => 합집합"
   ]
  },
  {
   "cell_type": "code",
   "execution_count": 23,
   "metadata": {},
   "outputs": [
    {
     "name": "stdout",
     "output_type": "stream",
     "text": [
      "{'wink', 'nudge'}\n"
     ]
    },
    {
     "data": {
      "text/plain": [
       "set()"
      ]
     },
     "execution_count": 23,
     "metadata": {},
     "output_type": "execute_result"
    }
   ],
   "source": [
    "words = ['nudge', 'nudge', 'wink', 'wink']\n",
    "tuple(words)\n",
    "terms = set(words)\n",
    "print(terms)\n",
    "list(terms)\n",
    "tuple(terms)\n",
    "\n",
    "alpha = ('a', 'b', 'c')\n",
    "set(alpha)\n",
    "\n",
    "terms.clear()\n",
    "terms"
   ]
  },
  {
   "cell_type": "code",
   "execution_count": 26,
   "metadata": {},
   "outputs": [
    {
     "data": {
      "text/plain": [
       "[9, 4, 1, 0, 1, 4]"
      ]
     },
     "execution_count": 26,
     "metadata": {},
     "output_type": "execute_result"
    }
   ],
   "source": [
    "{x * x for x in range(-3, 3)}\n",
    "[x * x for x in range(-3, 3)]"
   ]
  },
  {
   "cell_type": "markdown",
   "metadata": {},
   "source": [
    "# CSV Files\n",
    "+ Comma Separated Values"
   ]
  },
  {
   "cell_type": "markdown",
   "metadata": {},
   "source": [
    "# Dictionary\n",
    "+ '키:값' 으로 구성되어 있음\n",
    "+ 키가 중복되면 안됨, The key must be unique"
   ]
  },
  {
   "cell_type": "code",
   "execution_count": 28,
   "metadata": {},
   "outputs": [
    {
     "data": {
      "text/plain": [
       "{'one': 1, 'two': 2, 'three': 3}"
      ]
     },
     "execution_count": 28,
     "metadata": {},
     "output_type": "execute_result"
    }
   ],
   "source": [
    "list1 = [[\"one\", 1], [\"two\", 2], [\"three\", 3]]\n",
    "dict(list1)\n",
    "list2 = [(\"one\", 1), (\"two\", 2), (\"three\", 3)]\n",
    "dict(list2)"
   ]
  },
  {
   "cell_type": "code",
   "execution_count": 38,
   "metadata": {},
   "outputs": [
    {
     "name": "stdout",
     "output_type": "stream",
     "text": [
      "Park: 12345\n",
      "Kim: 234234\n",
      "Lee: 2384546\n",
      "--------------------------------------------------\n",
      "Park\n",
      "Kim\n",
      "Lee\n",
      "--------------------------------------------------\n",
      "('Park', 12345)\n",
      "('Kim', 234234)\n",
      "('Lee', 2384546)\n",
      "--------------------------------------------------\n",
      "12345\n",
      "234234\n",
      "2384546\n",
      "--------------------------------------------------\n",
      "(0, ('Park', 12345))\n",
      "(1, ('Kim', 234234))\n",
      "(2, ('Lee', 2384546))\n",
      "--------------------------------------------------\n",
      "0번째: Park - 12345\n",
      "1번째: Kim - 234234\n",
      "2번째: Lee - 2384546\n"
     ]
    }
   ],
   "source": [
    "addr ={\n",
    "    'Park': 12345,\n",
    "    'Kim': 234234,\n",
    "    'Lee': 2384546\n",
    "}\n",
    "\n",
    "for key, value in addr.items():\n",
    "    print('{}: {}'.format(key, value))\n",
    "print('-' * 50)\n",
    "\n",
    "# dictionary를 그냥 for문 돌리면 key만 출력됨\n",
    "for v in addr:\n",
    "    print(v)\n",
    "print('-' * 50)\n",
    "\n",
    "# .items()를 붙이면 튜플이 출력됨\n",
    "for v in addr.items():\n",
    "    print(v)\n",
    "print('-' * 50)\n",
    "\n",
    "# 값만 받고 싶은 경우 .values() 사용\n",
    "for v in addr.values():\n",
    "    print(v)\n",
    "print('-' * 50)\n",
    "\n",
    "# key 값 말고 index 출력하고 싶음\n",
    "for v in enumerate(addr.items()): #enumerate() -> index를 주는 것\n",
    "    print(v)\n",
    "print('-' * 50)\n",
    "\n",
    "for i, (key, value) in enumerate(addr.items()):\n",
    "    print('{}번째: {} - {}'.format(i, key, value))"
   ]
  },
  {
   "cell_type": "code",
   "execution_count": 39,
   "metadata": {},
   "outputs": [
    {
     "name": "stdout",
     "output_type": "stream",
     "text": [
      "Enter the person's age group The admission fee is 5 dollars.\n"
     ]
    }
   ],
   "source": [
    "def main():\n",
    "    print(\"Enter the person's age group \", end=\"\")\n",
    "    ageGroup = input(\"(child, minor, adult or senior) : \")\n",
    "    print(\"The admission fee is\", determineAdmissionFee(ageGroup), \"dollars.\")\n",
    "\n",
    "def determineAdmissionFee(ageGroup):\n",
    "    dict = {\"child\":0, \"minor\":5, \"adult\":10, \"senior\":8}\n",
    "    return dict[ageGroup]\n",
    "\n",
    "main()"
   ]
  }
 ],
 "metadata": {
  "kernelspec": {
   "display_name": "Python 3",
   "language": "python",
   "name": "python3"
  },
  "language_info": {
   "codemirror_mode": {
    "name": "ipython",
    "version": 3
   },
   "file_extension": ".py",
   "mimetype": "text/x-python",
   "name": "python",
   "nbconvert_exporter": "python",
   "pygments_lexer": "ipython3",
   "version": "3.11.4"
  },
  "orig_nbformat": 4
 },
 "nbformat": 4,
 "nbformat_minor": 2
}
