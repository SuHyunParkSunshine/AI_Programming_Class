{
 "cells": [
  {
   "cell_type": "markdown",
   "metadata": {},
   "source": [
    "# Unpacking\n",
    "* 안에 들어 있는 모든 값들을 unpacking해서 쓰겠다는 의미"
   ]
  },
  {
   "cell_type": "code",
   "execution_count": 2,
   "metadata": {},
   "outputs": [
    {
     "name": "stdout",
     "output_type": "stream",
     "text": [
      "10\n",
      "20\n",
      "30\n"
     ]
    }
   ],
   "source": [
    "def print_numbers(a, b, c):\n",
    "    print(a)\n",
    "    print(b)\n",
    "    print(c)\n",
    "\n",
    "nums = [10, 20, 30]\n",
    "\n",
    "# print_numbers(10, 20, 30)\n",
    "# print_numbers(nums[0], nums[1], nums[2])\n",
    "print_numbers(*nums) #리스트 다 풀어서 넣어조라 '*리스트이름' => unpacking 해라"
   ]
  },
  {
   "cell_type": "markdown",
   "metadata": {},
   "source": [
    "# 가변 인수 함수 만들기"
   ]
  },
  {
   "cell_type": "code",
   "execution_count": 6,
   "metadata": {},
   "outputs": [
    {
     "name": "stdout",
     "output_type": "stream",
     "text": [
      "10 20 30 \n",
      "--------------------------------------------------\n",
      "1 2 3 4 5 "
     ]
    }
   ],
   "source": [
    "def print_numbers(*args):\n",
    "    for arg in args:\n",
    "        print(arg, end=' ')\n",
    "\n",
    "nums = [10, 20, 30]\n",
    "\n",
    "print_numbers(*nums)\n",
    "print()\n",
    "print('-' * 50)\n",
    "print_numbers(*(1,2,3,4,5))\n"
   ]
  },
  {
   "cell_type": "markdown",
   "metadata": {},
   "source": [
    "# 키워드 인수 사용하기\n",
    "- **(2개)를 쓰는 경우, 딕셔너리는 키-값으로 이루어져 있기 때문에 값을 받고 싶으면 별 두개, 별 하나 하면 키가 unpacking 된다."
   ]
  },
  {
   "cell_type": "code",
   "execution_count": 9,
   "metadata": {},
   "outputs": [
    {
     "name": "stdout",
     "output_type": "stream",
     "text": [
      "이름:  SH\n",
      "나이:  10\n",
      "주소:  Busan\n",
      "--------------------------------------------------\n",
      "이름:  SH\n",
      "나이:  10\n",
      "주소:  Busan\n"
     ]
    }
   ],
   "source": [
    "def personal_info(name, age, address):\n",
    "    print('이름: ', name)\n",
    "    print('나이: ', age)\n",
    "    print('주소: ', address)\n",
    "\n",
    "data = {'name':'SH', 'age':10, 'address':'Busan'}\n",
    "\n",
    "#딕셔너리의 키값을 바로 사용하는 방법\n",
    "personal_info(name=data['name'],\n",
    "              age=data['age'],\n",
    "              address=data['address'])\n",
    "print('-'*50)\n",
    "\n",
    "#키워드 인수와 딕셔너리 언패킹 사용한 방법 '**'=> 딕셔너리라서 두개, 리스트나 튜플은 '*' 하나!!\n",
    "personal_info(**data)"
   ]
  },
  {
   "cell_type": "code",
   "execution_count": 13,
   "metadata": {},
   "outputs": [
    {
     "name": "stdout",
     "output_type": "stream",
     "text": [
      "name: SH\n",
      "age: 10\n",
      "address: Busan\n",
      "--------------------------------------------------\n",
      "name: SH\n"
     ]
    }
   ],
   "source": [
    "# kwargs = keyword arguments\n",
    "def personal_info(**kwargs):\n",
    "    for kw, arg in kwargs.items():\n",
    "        print(kw, ': ', arg, sep='')\n",
    "\n",
    "data = {'name':'SH', 'age':10, 'address':'Busan'}\n",
    "data2 = {'name':'SH'}\n",
    "\n",
    "personal_info(**data)\n",
    "print('-'*50)\n",
    "personal_info(**data2)"
   ]
  }
 ],
 "metadata": {
  "kernelspec": {
   "display_name": "Python 3",
   "language": "python",
   "name": "python3"
  },
  "language_info": {
   "codemirror_mode": {
    "name": "ipython",
    "version": 3
   },
   "file_extension": ".py",
   "mimetype": "text/x-python",
   "name": "python",
   "nbconvert_exporter": "python",
   "pygments_lexer": "ipython3",
   "version": "3.11.4"
  },
  "orig_nbformat": 4
 },
 "nbformat": 4,
 "nbformat_minor": 2
}
