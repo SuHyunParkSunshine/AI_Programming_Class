{
 "cells": [
  {
   "cell_type": "markdown",
   "metadata": {},
   "source": [
    "# 데코레이터 사용하기"
   ]
  },
  {
   "cell_type": "code",
   "execution_count": 1,
   "metadata": {},
   "outputs": [
    {
     "name": "stdout",
     "output_type": "stream",
     "text": [
      "hello 함수 시작\n",
      "hello\n",
      "hello 함수 끝\n",
      "world 함수 시작\n",
      "world\n",
      "world 함수 끝\n"
     ]
    }
   ],
   "source": [
    "def trace(func):                             # 호출할 함수를 매개변수로 받음\n",
    "    def wrapper():                           # 호출할 함수를 감싸는 함수\n",
    "        print(func.__name__, '함수 시작')    # __name__으로 함수 이름 출력\n",
    "        func()                               # 매개변수로 받은 함수를 호출\n",
    "        print(func.__name__, '함수 끝')\n",
    "    return wrapper                           # wrapper 함수 반환\n",
    " \n",
    "def hello():\n",
    "    print('hello')\n",
    " \n",
    "def world():\n",
    "    print('world')\n",
    " \n",
    "trace_hello = trace(hello)    # 데코레이터에 호출할 함수를 넣음\n",
    "trace_hello()                 # 반환된 함수를 호출\n",
    "trace_world = trace(world)    # 데코레이터에 호출할 함수를 넣음\n",
    "trace_world()                 # 반환된 함수를 호출"
   ]
  },
  {
   "cell_type": "code",
   "execution_count": 2,
   "metadata": {},
   "outputs": [
    {
     "name": "stdout",
     "output_type": "stream",
     "text": [
      "hello 함수 시작\n",
      "hello\n",
      "hello 함수 끝\n",
      "world 함수 시작\n",
      "world\n",
      "world 함수 끝\n"
     ]
    }
   ],
   "source": [
    "# with decorator version\n",
    "def trace(func):                             # 호출할 함수를 매개변수로 받음\n",
    "    def wrapper():                           # 호출할 함수를 감싸는 함수\n",
    "        print(func.__name__, '함수 시작')    # __name__으로 함수 이름 출력\n",
    "        func()                               # 매개변수로 받은 함수를 호출\n",
    "        print(func.__name__, '함수 끝')\n",
    "    return wrapper                           # wrapper 함수 반환\n",
    "\n",
    "@trace\n",
    "def hello():\n",
    "    print('hello')\n",
    "\n",
    "@trace\n",
    "def world():\n",
    "    print('world')\n",
    " \n",
    "# trace_hello = trace(hello)    # 데코레이터에 호출할 함수를 넣음\n",
    "# trace_hello()                 # 반환된 함수를 호출\n",
    "# trace_world = trace(world)    # 데코레이터에 호출할 함수를 넣음\n",
    "# trace_world()                 # 반환된 함수를 호출\n",
    "\n",
    "hello()\n",
    "world()"
   ]
  },
  {
   "cell_type": "markdown",
   "metadata": {},
   "source": [
    "# 매개변수와 반환값을 처리하는 데코레이터 만들기"
   ]
  },
  {
   "cell_type": "code",
   "execution_count": 5,
   "metadata": {},
   "outputs": [
    {
     "name": "stdout",
     "output_type": "stream",
     "text": [
      "add(a=10, b=20) -> 30\n",
      "30\n"
     ]
    }
   ],
   "source": [
    "def trace(func):          # 호출할 함수를 매개변수로 받음\n",
    "    def wrapper(a, b):    # 호출할 함수 add(a, b)의 매개변수와 똑같이 지정\n",
    "        r = func(a, b)    # func에 매개변수 a, b를 넣어서 호출하고 반환값을 변수에 저장\n",
    "        print('{0}(a={1}, b={2}) -> {3}'.format(func.__name__, a, b, r))  # 매개변수와 반환값 출력\n",
    "        return r          # func의 반환값을 반환, 원래 함수에 return이 있었다면, 여기도 return 값을 넣어주어야 한다. \n",
    "    return wrapper        # wrapper 함수 반환\n",
    " \n",
    "@trace              # @데코레이터\n",
    "def add(a, b):      # 매개변수는 두 개\n",
    "    return a + b    # 매개변수 두 개를 더해서 반환\n",
    " \n",
    "print(add(10, 20))"
   ]
  },
  {
   "cell_type": "markdown",
   "metadata": {},
   "source": [
    "# 가변 인수 함수 데코레이터"
   ]
  },
  {
   "cell_type": "code",
   "execution_count": 6,
   "metadata": {},
   "outputs": [
    {
     "name": "stdout",
     "output_type": "stream",
     "text": [
      "get_max(args=(10, 20), kwargs={}) -> 20\n",
      "20\n",
      "get_min(args=(), kwargs={'x': 10, 'y': 20, 'z': 30}) -> 10\n",
      "10\n"
     ]
    }
   ],
   "source": [
    "def trace(func):                     # 호출할 함수를 매개변수로 받음\n",
    "    def wrapper(*args, **kwargs):    # 가변 인수 함수로 만듦\n",
    "        r = func(*args, **kwargs)    # func에 args, kwargs를 언패킹하여 넣어줌\n",
    "        print('{0}(args={1}, kwargs={2}) -> {3}'.format(func.__name__, args, kwargs, r))\n",
    "                                     # 매개변수와 반환값 출력\n",
    "        return r                     # func의 반환값을 반환\n",
    "    return wrapper                   # wrapper 함수 반환\n",
    " \n",
    "@trace                   # @데코레이터\n",
    "def get_max(*args):      # 위치 인수를 사용하는 가변 인수 함수\n",
    "    return max(args)\n",
    " \n",
    "@trace                   # @데코레이터\n",
    "def get_min(**kwargs):   # 키워드 인수를 사용하는 가변 인수 함수\n",
    "    return min(kwargs.values())\n",
    " \n",
    "print(get_max(10, 20))\n",
    "print(get_min(x=10, y=20, z=30))"
   ]
  },
  {
   "cell_type": "markdown",
   "metadata": {},
   "source": [
    "# 매개변수가 있는 데코레이터"
   ]
  },
  {
   "cell_type": "code",
   "execution_count": 7,
   "metadata": {},
   "outputs": [
    {
     "name": "stdout",
     "output_type": "stream",
     "text": [
      "add의 반환값은 3의 배수입니다.\n",
      "30\n",
      "add의 반환값은 3의 배수가 아닙니다.\n",
      "7\n"
     ]
    }
   ],
   "source": [
    "def is_multiple(x):              # 데코레이터가 사용할 매개변수를 지정\n",
    "    def real_decorator(func):    # 호출할 함수를 매개변수로 받음\n",
    "        def wrapper(a, b):       # 호출할 함수의 매개변수와 똑같이 지정\n",
    "            r = func(a, b)       # func를 호출하고 반환값을 변수에 저장\n",
    "            if r % x == 0:       # func의 반환값이 x의 배수인지 확인\n",
    "                print('{0}의 반환값은 {1}의 배수입니다.'.format(func.__name__, x))\n",
    "            else:\n",
    "                print('{0}의 반환값은 {1}의 배수가 아닙니다.'.format(func.__name__, x))\n",
    "            return r             # func의 반환값을 반환\n",
    "        return wrapper           # wrapper 함수 반환\n",
    "    return real_decorator        # real_decorator 함수 반환\n",
    " \n",
    "@is_multiple(3)     # @데코레이터(인수)\n",
    "def add(a, b):\n",
    "    return a + b\n",
    " \n",
    "print(add(10, 20))\n",
    "print(add(2, 5))\n"
   ]
  }
 ],
 "metadata": {
  "kernelspec": {
   "display_name": "Python 3",
   "language": "python",
   "name": "python3"
  },
  "language_info": {
   "codemirror_mode": {
    "name": "ipython",
    "version": 3
   },
   "file_extension": ".py",
   "mimetype": "text/x-python",
   "name": "python",
   "nbconvert_exporter": "python",
   "pygments_lexer": "ipython3",
   "version": "3.11.4"
  },
  "orig_nbformat": 4
 },
 "nbformat": 4,
 "nbformat_minor": 2
}
