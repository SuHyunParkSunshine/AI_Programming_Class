{
 "cells": [
  {
   "cell_type": "markdown",
   "metadata": {},
   "source": [
    "Exercises 4.1 - 26"
   ]
  },
  {
   "cell_type": "code",
   "execution_count": 3,
   "metadata": {},
   "outputs": [
    {
     "name": "stdout",
     "output_type": "stream",
     "text": [
      "3\n"
     ]
    }
   ],
   "source": [
    "# 수현쓰 코드\n",
    "str = input('Enter the string: ')\n",
    "word = input('Enter the word that you wanna find: ')\n",
    "\n",
    "def countFunc(str, word):\n",
    "    print(str.count(word))\n",
    "\n",
    "countFunc(str, word)"
   ]
  },
  {
   "cell_type": "code",
   "execution_count": 10,
   "metadata": {},
   "outputs": [
    {
     "name": "stdout",
     "output_type": "stream",
     "text": [
      "My answer: 값이 없습니다\n",
      "Correct answer: 7\n"
     ]
    }
   ],
   "source": [
    "# 교수님쓰 코드\n",
    "\n",
    "def str_count(s_f, s_s):\n",
    "    len_f = len(s_f)\n",
    "    len_s = len(s_s)\n",
    "\n",
    "    # empty string일때\n",
    "    if len_s == 0:\n",
    "        return len_f + 1\n",
    "\n",
    "    cnt = 0\n",
    "    idx = 0\n",
    "\n",
    "    while idx+len_s-1 < len_f:\n",
    "        if(s_f[idx:idx+len_s] == s_s):\n",
    "            cnt += 1\n",
    "            idx += len_s\n",
    "        else:\n",
    "            idx += 1\n",
    "    return cnt\n",
    "\n",
    "s_full = input('Enter a string: ')\n",
    "s_sub = input('Enter a substring: ')\n",
    "\n",
    "cnt = str_count(s_full, s_sub)\n",
    "cnt_ref = s_full.count(s_sub)\n",
    "\n",
    "print('My answer: {}'.format(cnt))\n",
    "print('Correct answer: {}'.format(cnt_ref))"
   ]
  },
  {
   "cell_type": "markdown",
   "metadata": {},
   "source": [
    "Exercises 4.1 - 30"
   ]
  },
  {
   "cell_type": "code",
   "execution_count": 12,
   "metadata": {},
   "outputs": [
    {
     "name": "stdout",
     "output_type": "stream",
     "text": [
      "New salary for John Doe:  $ 50,160.0\n"
     ]
    }
   ],
   "source": [
    "# 수현쓰 코드\n",
    "f = input('Enter first name: ')\n",
    "l = input('Enter last name: ')\n",
    "s = int(input('Enter current salary: '))\n",
    "\n",
    "def calSal(s):\n",
    "    next_salary = 0\n",
    "    if s < 40000:\n",
    "        next_salary = s * 1.05\n",
    "    else:\n",
    "        next_salary = (s + 2000) + (s - 40000) * 0.02\n",
    "    return next_salary\n",
    "\n",
    "def main(f, l, s):\n",
    "    print('New salary for {} {}: '.format(f, l), '$', format(round(calSal(s), 2), ','))\n",
    "main(f, l, s)"
   ]
  },
  {
   "cell_type": "code",
   "execution_count": 14,
   "metadata": {},
   "outputs": [
    {
     "name": "stdout",
     "output_type": "stream",
     "text": [
      "New salary for John Doe: $50,160.00\n"
     ]
    }
   ],
   "source": [
    "# 교수님쓰 코드\n",
    "\n",
    "def get_input():\n",
    "    first_name = input('Enter first name: ')\n",
    "    last_name = input('Enter last name: ')\n",
    "    salary = float(input('Enter current salary: '))\n",
    "\n",
    "    return first_name, last_name, salary\n",
    "\n",
    "def calculate_salary(salary):\n",
    "    if salary < 40000:\n",
    "        new_salary = salary * 1.05\n",
    "    else:\n",
    "        new_salary = salary + 2000 + (salary - 40000)*0.02\n",
    "    return new_salary\n",
    "\n",
    "def main():\n",
    "    first_name, last_name, salary = get_input()\n",
    "    new_salary = calculate_salary(salary)\n",
    "\n",
    "    print('New salary for {} {}: ${:,.2f}'.format(first_name, last_name, new_salary))\n",
    "\n",
    "main()"
   ]
  }
 ],
 "metadata": {
  "kernelspec": {
   "display_name": "Python 3",
   "language": "python",
   "name": "python3"
  },
  "language_info": {
   "codemirror_mode": {
    "name": "ipython",
    "version": 3
   },
   "file_extension": ".py",
   "mimetype": "text/x-python",
   "name": "python",
   "nbconvert_exporter": "python",
   "pygments_lexer": "ipython3",
   "version": "3.11.4"
  },
  "orig_nbformat": 4
 },
 "nbformat": 4,
 "nbformat_minor": 2
}
