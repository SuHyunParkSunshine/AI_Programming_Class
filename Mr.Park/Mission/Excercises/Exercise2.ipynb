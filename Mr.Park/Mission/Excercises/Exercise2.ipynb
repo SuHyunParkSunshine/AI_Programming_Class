{
 "cells": [
  {
   "attachments": {},
   "cell_type": "markdown",
   "metadata": {},
   "source": [
    "Excercises 2.2"
   ]
  },
  {
   "cell_type": "code",
   "execution_count": 1,
   "metadata": {},
   "outputs": [
    {
     "name": "stdout",
     "output_type": "stream",
     "text": [
      "What you don't owe won't hurt you\n"
     ]
    }
   ],
   "source": [
    "stc = \"What you don't know won't hurt you\"\n",
    "stc1 = stc.replace('know', 'owe')\n",
    "print(stc1)"
   ]
  },
  {
   "cell_type": "code",
   "execution_count": 2,
   "metadata": {},
   "outputs": [
    {
     "name": "stdout",
     "output_type": "stream",
     "text": [
      "What you don't owe won't hurt you\n"
     ]
    }
   ],
   "source": [
    "stc = input('Enter a sentence: ')\n",
    "old_word = input('Enter word to replace: ')\n",
    "new_word = input('Enter replacement word: ')\n",
    "\n",
    "changedStc = stc.replace(old_word, new_word)\n",
    "print(changedStc)"
   ]
  },
  {
   "cell_type": "code",
   "execution_count": 10,
   "metadata": {},
   "outputs": [
    {
     "name": "stdout",
     "output_type": "stream",
     "text": [
      "peach peach pineapple\n"
     ]
    }
   ],
   "source": [
    "stc = input('Enter a sentence: ')\n",
    "old_word = input('Enter word to replace: ')\n",
    "new_word = input('Enter replacement word: ')\n",
    "\n",
    "words = stc.split() #split하면 리스트로 저장이 됨.\n",
    "replaced = []\n",
    "for w in words:\n",
    "    if w == old_word:\n",
    "        w = new_word\n",
    "    replaced.append(w)\n",
    "replaced = ' '.join(replaced) #join하면 하나의 문자열이 됨?\n",
    "print(replaced)"
   ]
  },
  {
   "attachments": {},
   "cell_type": "markdown",
   "metadata": {},
   "source": [
    "Exercises 2.3"
   ]
  },
  {
   "cell_type": "code",
   "execution_count": 12,
   "metadata": {},
   "outputs": [
    {
     "name": "stdout",
     "output_type": "stream",
     "text": [
      "$ 7,903.15\n"
     ]
    }
   ],
   "source": [
    "f = eval(input('Enter future value: '))\n",
    "r = eval(input('Enter evalerest rate(as %): '))\n",
    "n = eval(input('Enter numbers of years: '))\n",
    "\n",
    "presentVal = f / (1 + (r/100))**n\n",
    "\n",
    "print('$', format(round(presentVal, 2), ','))\n",
    "print('${:,.2f}'.format())\n"
   ]
  }
 ],
 "metadata": {
  "kernelspec": {
   "display_name": "Python 3",
   "language": "python",
   "name": "python3"
  },
  "language_info": {
   "codemirror_mode": {
    "name": "ipython",
    "version": 3
   },
   "file_extension": ".py",
   "mimetype": "text/x-python",
   "name": "python",
   "nbconvert_exporter": "python",
   "pygments_lexer": "ipython3",
   "version": "3.11.4"
  },
  "orig_nbformat": 4
 },
 "nbformat": 4,
 "nbformat_minor": 2
}
