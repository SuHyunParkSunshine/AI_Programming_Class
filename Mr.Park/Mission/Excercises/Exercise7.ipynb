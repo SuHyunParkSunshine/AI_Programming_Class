{
 "cells": [
  {
   "cell_type": "markdown",
   "metadata": {},
   "source": [
    "# Exercise 7.1"
   ]
  },
  {
   "cell_type": "markdown",
   "metadata": {},
   "source": [
    "* 27. Fraction"
   ]
  },
  {
   "cell_type": "code",
   "execution_count": null,
   "metadata": {},
   "outputs": [],
   "source": [
    "# 수현쓰 코드\n",
    "import fraction as frc\n",
    "\n",
    "m = int(input(\"Enter numerator of fraction: \"))\n",
    "n = int(input(\"Enter denominator of fraction: \"))\n",
    "\n",
    "result = frc.GCD(m, n)\n",
    "\n",
    "res1 = m//result\n",
    "res2 = n//result\n",
    "\n",
    "print(\"Reduction to lowest terms: {}/{}\".format(res1, res2))"
   ]
  },
  {
   "cell_type": "code",
   "execution_count": 2,
   "metadata": {},
   "outputs": [
    {
     "name": "stdout",
     "output_type": "stream",
     "text": [
      "Denomindator = 0\n"
     ]
    }
   ],
   "source": [
    "# 교수님쓰 코드\n",
    "from fraction import Fraction\n",
    "\n",
    "def main():\n",
    "    numer = int(input(\"Enter numerator: \"))\n",
    "    denom = int(input(\"Enter denominator: \"))\n",
    "    # denom = 0\n",
    "    # while denom == 0:\n",
    "    #     denom = int(input(\"Enter denominator: \"))\n",
    "\n",
    "    frac = Fraction(numer, denom)\n",
    "    try:\n",
    "        numer_reduced, denom_reduced = frac.reduce()\n",
    "\n",
    "        if denom_reduced == 1:\n",
    "            print('Reduction: {}'.format(numer_reduced))    \n",
    "\n",
    "        else:\n",
    "            print('Reduction: {}/{}'.format(numer_reduced, denom_reduced))\n",
    "    except Exception as exp:\n",
    "        print(exp)\n",
    "main()"
   ]
  },
  {
   "cell_type": "markdown",
   "metadata": {},
   "source": [
    "* 29. Convert a Decimal to a Fraction"
   ]
  },
  {
   "cell_type": "code",
   "execution_count": null,
   "metadata": {},
   "outputs": [],
   "source": [
    "# 수현쓰 코드\n",
    "from fractions import Fraction\n",
    "\n",
    "a = float(input(\"Enter numbers: \"))\n",
    "\n",
    "result = Fraction(a)\n",
    "print(result)"
   ]
  },
  {
   "cell_type": "code",
   "execution_count": 8,
   "metadata": {},
   "outputs": [
    {
     "name": "stdout",
     "output_type": "stream",
     "text": [
      "Reduction: 3/8\n"
     ]
    }
   ],
   "source": [
    "from fraction import Fraction\n",
    "\n",
    "def main():\n",
    "    number = input('Enter a positive decimal number less than 1: ')\n",
    "\n",
    "    if number[0] == '0':\n",
    "        precision = len(number[2:])\n",
    "    elif number[0] =='.':\n",
    "        precision = len(number[1:])\n",
    "    else:\n",
    "        print('Enter correct number plz')\n",
    "        return\n",
    "    \n",
    "    numer = int(float(number) * 10**precision)\n",
    "    denom = int(10**precision)\n",
    "\n",
    "    frac = Fraction(numer, denom)\n",
    "    try:\n",
    "        numer_reduced, denom_reduced = frac.reduce()\n",
    "\n",
    "        if denom_reduced == 1:\n",
    "            print('Reduction: {}'.format(numer_reduced))    \n",
    "\n",
    "        else:\n",
    "            print('Reduction: {}/{}'.format(numer_reduced, denom_reduced))\n",
    "    except Exception as exp:\n",
    "        print(exp)\n",
    "main()"
   ]
  },
  {
   "cell_type": "markdown",
   "metadata": {},
   "source": [
    "# Exercise 7.2"
   ]
  },
  {
   "cell_type": "code",
   "execution_count": null,
   "metadata": {},
   "outputs": [],
   "source": [
    "# 수현쓰 코드\n",
    "class Contestant():\n",
    "    def __init__(self):\n",
    "        self._hname = input(\"Enter the name of human: \")\n",
    "        self._cname = input(\"Enter the name of computer: \")\n",
    "        self._hscore = 0\n",
    "        self._cscore = 0\n",
    "\n",
    "class Human(Contestant):\n",
    "    def __init__(self):\n",
    "        super().__init__()\n",
    "    \n",
    "    hc = input(\"{}, enter your choice: \".format(self._hname))\n",
    "    \n",
    "    def comparison()\n",
    "\n",
    "class Computer(Contestant):\n",
    "    def __init__(self):\n",
    "        super().__init__()\n",
    "        cc = input(\"{} chooses {}\".format(self._cname, ))\n",
    "\n"
   ]
  },
  {
   "cell_type": "code",
   "execution_count": 2,
   "metadata": {},
   "outputs": [
    {
     "name": "stdout",
     "output_type": "stream",
     "text": [
      "park chooses rock\n",
      "sue: 0\n",
      "park: 0\n",
      "TIE\n",
      "park chooses rock\n",
      "sue: 0\n",
      "park: 0\n",
      "TIE\n",
      "park chooses scissors\n",
      "sue: 1\n",
      "park: 0\n",
      "sue WINS\n"
     ]
    }
   ],
   "source": [
    "# 교수님쓰 코드\n",
    "from abc import *\n",
    "import random as rd\n",
    "\n",
    "class Contestant(metaclass=ABCMeta):\n",
    "    def __init__(self, name=''):\n",
    "        self._name = name\n",
    "        self._score = 0\n",
    "        self._selection = ('rock', 'scissors', 'paper')\n",
    "\n",
    "    def getName(self):\n",
    "        return self._name\n",
    "    \n",
    "    def getScore(self):\n",
    "        return self._score\n",
    "    \n",
    "    def addScore(self):\n",
    "        self._score += 1\n",
    "\n",
    "    @abstractmethod\n",
    "    def choose(self):\n",
    "        pass\n",
    "        \n",
    "class Computer(Contestant):\n",
    "    def choose(self):\n",
    "        selection = rd.choice(self._selection)\n",
    "        print(f'{self._name} chooses {selection}')\n",
    "        return selection\n",
    "\n",
    "class Human(Contestant):\n",
    "    def choose(self):\n",
    "        selection = ''\n",
    "        while selection not in self._selection:\n",
    "            selection = input(f'{self._name}, enter your choice: ')\n",
    "        return selection\n",
    "\n",
    "# 둘의 선택을 입력으로 받아 가위바위보 결과를 반환하는 기능\n",
    "def getGameResult(choice1, choice2):\n",
    "    '''\n",
    "        choice1이 이기면, 1\n",
    "        비기면, 0\n",
    "        choice2가 이기면, -1\n",
    "        를 반환한다.    \n",
    "    '''\n",
    "    list_case = (('rock', 'scissors'),\n",
    "                 ('scissors', 'paper'),\n",
    "                 ('paper', 'rock')) # 첫번째 케이스가 이기는 경우만 넣어둔 튜플, 값이 안 변해도 되니까\n",
    "    if(choice1, choice2) in list_case:\n",
    "        return 1\n",
    "    elif choice1 == choice2:\n",
    "        return 0\n",
    "    else:\n",
    "        return -1\n",
    "    \n",
    "\n",
    "def main():\n",
    "    name_h = input('Enter the name of human: ')\n",
    "    name_c = input('Enter the name of computer: ')\n",
    "\n",
    "    human = Human(name_h)\n",
    "    computer = Computer(name_c)\n",
    "\n",
    "    for _ in range(3):\n",
    "        choice1 = human.choose()\n",
    "        choice2 = computer.choose()\n",
    "\n",
    "        result = getGameResult(choice1, choice2)\n",
    "\n",
    "        if result > 0:\n",
    "            human.addScore()\n",
    "        elif result < 0:\n",
    "            computer.addScore()\n",
    "        print(f'{human.getName()}: {human.getScore()}')\n",
    "        print(f'{computer.getName()}: {computer.getScore()}')\n",
    "\n",
    "        if human.getScore() == computer.getScore():\n",
    "            print('TIE')\n",
    "        else:\n",
    "            winner = human.getName() \\\n",
    "            if human.getScore() > computer.getScore() \\\n",
    "                else computer.getName()\n",
    "            print(f'{winner} WINS')\n",
    "\n",
    "main()"
   ]
  }
 ],
 "metadata": {
  "kernelspec": {
   "display_name": "Python 3",
   "language": "python",
   "name": "python3"
  },
  "language_info": {
   "codemirror_mode": {
    "name": "ipython",
    "version": 3
   },
   "file_extension": ".py",
   "mimetype": "text/x-python",
   "name": "python",
   "nbconvert_exporter": "python",
   "pygments_lexer": "ipython3",
   "version": "3.11.4"
  },
  "orig_nbformat": 4
 },
 "nbformat": 4,
 "nbformat_minor": 2
}
