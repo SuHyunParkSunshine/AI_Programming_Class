{
 "cells": [
  {
   "cell_type": "markdown",
   "metadata": {},
   "source": [
    "Exercises 3.2"
   ]
  },
  {
   "cell_type": "code",
   "execution_count": 8,
   "metadata": {},
   "outputs": [
    {
     "name": "stdout",
     "output_type": "stream",
     "text": [
      "elseway\n"
     ]
    }
   ],
   "source": [
    "# 수현쓰 실패 코드\n",
    "word = input('Enter word to translate: ')\n",
    "if word[0] == 'a'or'e'or'i'or'o'or'u':\n",
    "    word = word + 'way'\n",
    "    print(word)\n",
    "else:\n",
    "    for char in word:\n",
    "        while char == 'a'or'e'or'i'or'o'or'u':\n",
    "            \n",
    "\n"
   ]
  },
  {
   "cell_type": "code",
   "execution_count": 38,
   "metadata": {},
   "outputs": [
    {
     "name": "stdout",
     "output_type": "stream",
     "text": [
      "The word in Pig Latine is: ipchay\n"
     ]
    }
   ],
   "source": [
    "# 교수님 코드 case 1\n",
    "word = input('Enter word to translate: ')\n",
    "\n",
    "word = word.lower()\n",
    "\n",
    "if word[0] in 'aeiou':\n",
    "    result = word + 'way'\n",
    "else:    \n",
    "    for i in range(len(word)):\n",
    "        if word[i] in 'aeiou':\n",
    "            result = word[i:] + word[:i] + 'ay'\n",
    "            break\n",
    "print('The word in Pig Latine is: {}'.format(result))"
   ]
  },
  {
   "cell_type": "code",
   "execution_count": 39,
   "metadata": {},
   "outputs": [
    {
     "name": "stdout",
     "output_type": "stream",
     "text": [
      "The word in Pig Latine is: IPCHay\n"
     ]
    }
   ],
   "source": [
    "# 교수님 코드 case 2\n",
    "word = input('Enter word to translate: ')\n",
    "\n",
    "if word[0] in 'aeiouAEIOU':\n",
    "    result = word + 'way'\n",
    "else:    \n",
    "    for i in range(len(word)):\n",
    "        if word[i] in 'aeiouAEIOU':\n",
    "            result = word[i:] + word[:i] + 'ay'\n",
    "            break\n",
    "print('The word in Pig Latine is: {}'.format(result))"
   ]
  },
  {
   "cell_type": "markdown",
   "metadata": {},
   "source": [
    "Exercises 3.3"
   ]
  },
  {
   "cell_type": "code",
   "execution_count": 5,
   "metadata": {},
   "outputs": [
    {
     "name": "stdout",
     "output_type": "stream",
     "text": [
      "Number of bounces: 13\n",
      "Metres traveled: 44.82\n"
     ]
    }
   ],
   "source": [
    "coef = float(input('Enter coefficient of resitution: '))\n",
    "height = float(input('Enter initial height in metres: '))\n",
    "\n",
    "#공이 튕긴 전체 거리의 합\n",
    "distance = height\n",
    "num = 1 # 처음에 한번 튕기니까 1로 설정\n",
    "\n",
    "while height * coef > 0.1:\n",
    "    height *= coef              # 튀어오를 높이\n",
    "    distance += height*2.0 # 올라갔다 내려옴\n",
    "    num += 1                    # 튕긴 횟수 1증가\n",
    "\n",
    "print('Number of bounces: {}'.format(num))\n",
    "print('Metres traveled: {:.2f}'.format(distance))"
   ]
  },
  {
   "cell_type": "code",
   "execution_count": 4,
   "metadata": {},
   "outputs": [
    {
     "name": "stdout",
     "output_type": "stream",
     "text": [
      "Number of bounces:  13\n",
      "Meters traveled:  44.82\n"
     ]
    }
   ],
   "source": [
    "# 예지니가 적은 코드\n",
    "w = float(input('Enter coefficient of restitution : '))\n",
    "he = float(input('Enter initial height in meters : '))\n",
    "num = 1\n",
    "\n",
    "#공이 튕긴 전체 거리의 합\n",
    "dis = he\n",
    "\n",
    "while (he*w > 0.1) :\n",
    "    dis += he*w*2.0\n",
    "    num += 1\n",
    "    he *=  w\n",
    "    \n",
    "print('Number of bounces: ',num)\n",
    "print('Meters traveled: ', round(dis,2))"
   ]
  },
  {
   "cell_type": "markdown",
   "metadata": {},
   "source": [
    "Exercises 3.4"
   ]
  },
  {
   "cell_type": "code",
   "execution_count": 8,
   "metadata": {},
   "outputs": [
    {
     "name": "stdout",
     "output_type": "stream",
     "text": [
      "66\n"
     ]
    }
   ],
   "source": [
    "# 수현쓰 코드\n",
    "digits = int(input('Enter digits: '))\n",
    "\n",
    "totalSum = 0\n",
    "\n",
    "for digs in range(1, int(digits) + 1):\n",
    "    diglist = str(digs)\n",
    "    digSum = 0\n",
    "    for i in diglist:\n",
    "        digSum += int(i)\n",
    "    totalSum += digSum\n",
    "result = \"{:,}\".format(totalSum)\n",
    "print(result)"
   ]
  },
  {
   "cell_type": "code",
   "execution_count": 10,
   "metadata": {},
   "outputs": [
    {
     "name": "stdout",
     "output_type": "stream",
     "text": [
      "Sum: 27000001\n",
      "Elapsed time: 0.8139379024505615\n"
     ]
    }
   ],
   "source": [
    "# 교수님쓰 코드\n",
    "import time\n",
    "\n",
    "t0 = time.time()\n",
    "\n",
    "digit_sum = 0\n",
    "for num in range(1, 1000001):\n",
    "    # 12486 -> 1+2+4+8+6\n",
    "    while num > 0:\n",
    "        digit = num % 10\n",
    "        digit_sum += digit\n",
    "        num //= 10\n",
    "t1 = time.time()\n",
    "print('Sum: {}'.format(digit_sum))\n",
    "print('Elapsed time: {}'.format(t1 - t0))"
   ]
  },
  {
   "cell_type": "code",
   "execution_count": 11,
   "metadata": {},
   "outputs": [
    {
     "name": "stdout",
     "output_type": "stream",
     "text": [
      "Sum: 27000001\n",
      "Elapsed time: 1.236926555633545\n"
     ]
    }
   ],
   "source": [
    "import time\n",
    "\n",
    "digit_sum = 0\n",
    "\n",
    "t0 = time.time()\n",
    "for num in range(1, 1000001):\n",
    "    digits = list(str(num))\n",
    "    for d in digits:\n",
    "        digit_sum += int(d)\n",
    "t1 = time.time()\n",
    "\n",
    "print('Sum: {}'.format(digit_sum))\n",
    "print('Elapsed time: {}'.format(t1 - t0))"
   ]
  }
 ],
 "metadata": {
  "kernelspec": {
   "display_name": "Python 3",
   "language": "python",
   "name": "python3"
  },
  "language_info": {
   "codemirror_mode": {
    "name": "ipython",
    "version": 3
   },
   "file_extension": ".py",
   "mimetype": "text/x-python",
   "name": "python",
   "nbconvert_exporter": "python",
   "pygments_lexer": "ipython3",
   "version": "3.11.4"
  },
  "orig_nbformat": 4
 },
 "nbformat": 4,
 "nbformat_minor": 2
}
