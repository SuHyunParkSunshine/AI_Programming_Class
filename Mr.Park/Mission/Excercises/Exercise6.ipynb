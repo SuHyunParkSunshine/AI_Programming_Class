{
 "cells": [
  {
   "cell_type": "markdown",
   "metadata": {},
   "source": [
    "# Exercise 6.2"
   ]
  },
  {
   "cell_type": "markdown",
   "metadata": {},
   "source": [
    "* 9. Alphabet"
   ]
  },
  {
   "cell_type": "code",
   "execution_count": 3,
   "metadata": {},
   "outputs": [
    {
     "name": "stdout",
     "output_type": "stream",
     "text": [
      "['F', 'A', 'n']\n"
     ]
    }
   ],
   "source": [
    "import random as rd\n",
    "import string\n",
    "\n",
    "a = string.ascii_letters\n",
    "\n",
    "rlist = rd.sample(a, 3)\n",
    "print(rlist)"
   ]
  },
  {
   "cell_type": "code",
   "execution_count": 18,
   "metadata": {},
   "outputs": [
    {
     "name": "stdout",
     "output_type": "stream",
     "text": [
      "['e', 'c', 't']\n",
      "selected1 ['F', 'A', 'M']\n"
     ]
    }
   ],
   "source": [
    "# 교수님 코드\n",
    "import random\n",
    "\n",
    "list_alphabets = 'abcdefghijklmnopqrstuvwxyz'\n",
    "\n",
    "selected = random.sample(list_alphabets, 3)\n",
    "# sample() => 중복을 허용하지 않음. 따라서 같은 값들이 나오지 않음 (without replacement)\n",
    "# choices() => 중복을 허용. 따라서 같은 값들이 나옴. 몇개 뽑을 지도 지정 가능(with replacement)\n",
    "# choice() => 랜덤하게 하나만 뽑아줌\n",
    "\n",
    "selected1 = [chr(random.randint(ord('A'), ord('Z'))) for _ in range(3)]\n",
    "\n",
    "print(selected)\n",
    "print('selected1', selected1)"
   ]
  },
  {
   "cell_type": "markdown",
   "metadata": {},
   "source": [
    "* 13. Coin"
   ]
  },
  {
   "cell_type": "code",
   "execution_count": 10,
   "metadata": {},
   "outputs": [
    {
     "name": "stdout",
     "output_type": "stream",
     "text": [
      "61\n"
     ]
    }
   ],
   "source": [
    "import random as rd\n",
    "\n",
    "coin = ['Head', 'Tail']\n",
    "\n",
    "cnt = 0\n",
    "\n",
    "for i in range(100):\n",
    "    hort = rd.choice(coin)\n",
    "    if(hort == 'Head'):\n",
    "        cnt += 1\n",
    "print(cnt)"
   ]
  },
  {
   "cell_type": "code",
   "execution_count": 17,
   "metadata": {},
   "outputs": [
    {
     "name": "stdout",
     "output_type": "stream",
     "text": [
      "0\n",
      "1\n",
      "2\n",
      "3\n",
      "4\n",
      "5\n",
      "6\n",
      "7\n",
      "8\n",
      "9\n",
      "10\n",
      "11\n",
      "12\n",
      "13\n",
      "14\n",
      "15\n",
      "16\n",
      "17\n",
      "18\n",
      "19\n",
      "20\n",
      "21\n",
      "22\n",
      "23\n",
      "24\n",
      "25\n",
      "26\n",
      "27\n",
      "28\n",
      "29\n",
      "30\n",
      "31\n",
      "32\n",
      "33\n",
      "34\n",
      "35\n",
      "36\n",
      "37\n",
      "38\n",
      "39\n",
      "40\n",
      "41\n",
      "42\n",
      "43\n",
      "44\n",
      "45\n",
      "46\n",
      "47\n",
      "48\n",
      "49\n",
      "50\n",
      "51\n",
      "52\n",
      "53\n",
      "54\n",
      "55\n",
      "56\n",
      "57\n",
      "58\n",
      "59\n",
      "60\n",
      "61\n",
      "62\n",
      "63\n",
      "64\n",
      "65\n",
      "66\n",
      "67\n",
      "68\n",
      "69\n",
      "70\n",
      "71\n",
      "72\n",
      "73\n",
      "74\n",
      "75\n",
      "76\n",
      "77\n",
      "78\n",
      "79\n",
      "80\n",
      "81\n",
      "82\n",
      "83\n",
      "84\n",
      "85\n",
      "86\n",
      "87\n",
      "88\n",
      "89\n",
      "90\n",
      "91\n",
      "92\n",
      "93\n",
      "94\n",
      "95\n",
      "96\n",
      "97\n",
      "98\n",
      "99\n",
      "Heads: 57\n"
     ]
    }
   ],
   "source": [
    "# 교수님 코드\n",
    "import random\n",
    "\n",
    "cnt = 0\n",
    " \n",
    "for _ in range(100): #'_' 이름이 이상할 뿐이지 변수임, underbar에는 마지막에 계산된 값이 저장이 된다.\n",
    "    print(_)\n",
    "    if random.choice(['H', 'T']) == 'H':\n",
    "        cnt += 1\n",
    "\n",
    "print('Heads: {}'.format(cnt))"
   ]
  },
  {
   "cell_type": "markdown",
   "metadata": {},
   "source": [
    "# Exercises 6.4"
   ]
  },
  {
   "cell_type": "markdown",
   "metadata": {},
   "source": [
    "* 7. Alphabetical Order"
   ]
  },
  {
   "cell_type": "code",
   "execution_count": 24,
   "metadata": {},
   "outputs": [
    {
     "name": "stdout",
     "output_type": "stream",
     "text": [
      "<class 'str'>\n",
      "<class 'int'>\n",
      "sfaf\\ is not in alphabetical order\n"
     ]
    }
   ],
   "source": [
    "# 수현쓰 코드 => 문제 완전히 잘 못 이해하고 풀음\n",
    "def main():\n",
    "    L = input(\"Enter the Alphabets: \")\n",
    "    print(type(L))\n",
    "    if isAlpha(L) == True:\n",
    "        print('{} is in alphabetical order'.format(L))\n",
    "    else:\n",
    "        print('{} is not in alphabetical order'.format(L))    \n",
    "\n",
    "def isAlpha(L):\n",
    "    for i in range(len(L) - 1):        \n",
    "        if L[i] > L[i+1]:            \n",
    "            return False\n",
    "    return True\n",
    "\n",
    "main()"
   ]
  },
  {
   "cell_type": "code",
   "execution_count": 37,
   "metadata": {},
   "outputs": [
    {
     "name": "stdout",
     "output_type": "stream",
     "text": [
      "True\n",
      "False\n",
      "True\n",
      "False\n"
     ]
    }
   ],
   "source": [
    "# 교수님쓰 코드\n",
    "\n",
    "def isAlpha(L):\n",
    "    for i in range(len(L) - 1):        \n",
    "        if L[i] > L[i+1]:            \n",
    "            return False\n",
    "    return True\n",
    "\n",
    "def isAlphaRecursion(L):\n",
    "    if len(L) <= 1:\n",
    "        return True\n",
    "    elif L[0] < L[1]:\n",
    "            return isAlphaRecursion(L[1:])\n",
    "    else:\n",
    "         return False\n",
    "\n",
    "list_words1 = ['apple', 'banana', 'carrot']\n",
    "list_words2 = ['Zebra', 'zero', 'alpha']\n",
    "\n",
    "print(isAlpha(list_words1))\n",
    "print(isAlpha(list_words2))\n",
    "\n",
    "print(isAlphaRecursion(list_words1))\n",
    "print(isAlphaRecursion(list_words2))"
   ]
  },
  {
   "cell_type": "code",
   "execution_count": 36,
   "metadata": {},
   "outputs": [
    {
     "name": "stdout",
     "output_type": "stream",
     "text": [
      "3 4 5 6 7 "
     ]
    }
   ],
   "source": [
    "# 수현쓰 코드\n",
    "def main():\n",
    "    m= int(input(\"Enter number1: \"))\n",
    "    n= int(input(\"Enter number2: \"))\n",
    "    displaySequenceOfNumbers(m, n)\n",
    "\n",
    "def displaySequenceOfNumbers(m, n):\n",
    "    while m <= n:\n",
    "        print(m, end=' ')\n",
    "        m = m + 1\n",
    "\n",
    "main()"
   ]
  },
  {
   "cell_type": "code",
   "execution_count": 42,
   "metadata": {},
   "outputs": [
    {
     "name": "stdout",
     "output_type": "stream",
     "text": [
      "5 6 7 8 9 10 \n",
      "5\n",
      "6 7 8 9 10 \n"
     ]
    }
   ],
   "source": [
    "# 교수님쓰 코드\n",
    "def displaySequenceOfNumbers(m, n):\n",
    "    while m <= n:\n",
    "        print(m, end=' ')\n",
    "        m = m + 1\n",
    "\n",
    "def displaySequenceOfNumbersRecursion(m, n):\n",
    "    if m > n:\n",
    "        return\n",
    "    if m == n:\n",
    "        print(m)\n",
    "    else:\n",
    "        print(m)\n",
    "        displaySequenceOfNumbers(m+1, n)\n",
    "\n",
    "displaySequenceOfNumbers(5, 10)\n",
    "print('')\n",
    "displaySequenceOfNumbersRecursion(5, 10)\n",
    "print('')"
   ]
  }
 ],
 "metadata": {
  "kernelspec": {
   "display_name": "Python 3",
   "language": "python",
   "name": "python3"
  },
  "language_info": {
   "codemirror_mode": {
    "name": "ipython",
    "version": 3
   },
   "file_extension": ".py",
   "mimetype": "text/x-python",
   "name": "python",
   "nbconvert_exporter": "python",
   "pygments_lexer": "ipython3",
   "version": "3.11.4"
  },
  "orig_nbformat": 4
 },
 "nbformat": 4,
 "nbformat_minor": 2
}
