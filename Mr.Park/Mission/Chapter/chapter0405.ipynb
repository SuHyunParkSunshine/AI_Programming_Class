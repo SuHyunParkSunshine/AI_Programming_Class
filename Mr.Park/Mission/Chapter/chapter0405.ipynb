{
 "cells": [
  {
   "cell_type": "markdown",
   "metadata": {},
   "source": [
    "# Chapter4. Programming Projects\n",
    "5. Alphabetical Order"
   ]
  },
  {
   "cell_type": "code",
   "execution_count": null,
   "metadata": {},
   "outputs": [],
   "source": [
    "# 하다가 실패한 수현코드\n",
    "str = input('Enter a word: ')\n",
    "\n",
    "def isTripleconsecutive(str):\n",
    "    for i in range(ord('A'), ord('Z') + 1):\n"
   ]
  },
  {
   "cell_type": "code",
   "execution_count": 3,
   "metadata": {},
   "outputs": [
    {
     "name": "stdout",
     "output_type": "stream",
     "text": [
      "SUHYUN does not contain three successive letters in consecutive alphabetical order\n"
     ]
    }
   ],
   "source": [
    "# 똑똑이 GPT코드\n",
    "def isTripleConsecutive(word):\n",
    "    for i in range(len(word) - 2):\n",
    "        if (ord(word[i]) + 1 == ord(word[i+1])) and (ord(word[i+1]) + 1 == ord(word[i+2])):\n",
    "            return True\n",
    "    return False\n",
    "\n",
    "# Main program\n",
    "word = input(\"Enter a word: \")\n",
    "\n",
    "if isTripleConsecutive(word.upper()):\n",
    "    print(word, \"contains three successive letters in consecutive alphabetical order\")\n",
    "else:\n",
    "    print(word, \"does not contain three successive letters in consecutive alphabetical order\")\n"
   ]
  },
  {
   "cell_type": "code",
   "execution_count": 1,
   "metadata": {},
   "outputs": [
    {
     "name": "stdout",
     "output_type": "stream",
     "text": [
      "HIJACK contains three successive letters in consecutive alphabetical order\n"
     ]
    }
   ],
   "source": [
    "# 교수님 코드\n",
    "def main():\n",
    "    word = getInput()\n",
    "\n",
    "    if isTripleConsecutive(word.upper()):\n",
    "        print(\"{} contains three successive letters in consecutive alphabetical order\".format(word))\n",
    "    else:\n",
    "        print(\"{} does not contain three successive letters in consecutive alphabetical order\".format(word))\n",
    "\n",
    "def getInput():\n",
    "    word = input(\"Enter a word: \")\n",
    "    return word\n",
    "\n",
    "def isTripleConsecutive(word):\n",
    "    for i in range(len(word)-2):\n",
    "        if word[i].isalpha() and ord(word[i])+1 == ord(word[i+1]) and ord(word[i+1])+1 == ord(word[i+2]):\n",
    "            return True\n",
    "        return False\n",
    "    \n",
    "main()"
   ]
  },
  {
   "cell_type": "markdown",
   "metadata": {},
   "source": [
    "# Chapter5. Programming Projects\n",
    "1. Unit Conversion"
   ]
  },
  {
   "cell_type": "code",
   "execution_count": 4,
   "metadata": {},
   "outputs": [
    {
     "name": "stdout",
     "output_type": "stream",
     "text": [
      "UNITS OF LENGTH\n",
      "inches/furlongs/yards\n",
      "fathoms/feet/kilometers\n",
      "meters/miles/rods\n"
     ]
    }
   ],
   "source": [
    "# GPT 코드 -> turns out that it is stupid\n",
    "def load_units(file_name):\n",
    "    units = {}\n",
    "    with open(file_name) as file:\n",
    "        for line in file:\n",
    "            unit, value = line.strip().split(',')\n",
    "            units[unit.strip()] = float(value.strip())\n",
    "    return units\n",
    "\n",
    "def convert_length(units, from_unit, to_unit, quantity):\n",
    "    feet = quantity * units[from_unit]\n",
    "    result = feet / units[to_unit]\n",
    "    return result\n",
    "\n",
    "# Load units from the file\n",
    "units_file = '../data/Units.txt'\n",
    "units = load_units(units_file)\n",
    "\n",
    "# Display the units of length\n",
    "unit_keys = list(units.keys())\n",
    "print(\"UNITS OF LENGTH\")\n",
    "print('/'.join(unit_keys[:3]))\n",
    "print('/'.join(unit_keys[3:6]))\n",
    "print('/'.join(unit_keys[6:]))\n",
    "\n",
    "# Get input from the user\n",
    "from_unit = input(\"Unit to convert from: \")\n",
    "to_unit = input(\"Unit to convert to: \")\n",
    "quantity = float(input(\"Enter length in {}: \".format(from_unit)))\n",
    "\n",
    "# Convert and display the result\n",
    "result = convert_length(units, from_unit, to_unit, quantity)\n",
    "print(\"Length in {}: {:.4f}\".format(to_unit, result))\n"
   ]
  },
  {
   "cell_type": "code",
   "execution_count": 10,
   "metadata": {},
   "outputs": [
    {
     "name": "stdout",
     "output_type": "stream",
     "text": [
      "UNITS OF LENGTH\n",
      "inches         furlongs       yards          \n",
      "fathoms        feet           kilometers     \n",
      "meters         miles          rods           \n",
      "Length in miles: 0.3153\n"
     ]
    }
   ],
   "source": [
    "# 교수님 코드\n",
    "def main():\n",
    "    print('UNITS OF LENGTH')\n",
    "    dict_unit = readUnits()\n",
    "\n",
    "    # count = 0\n",
    "    # for unit in dict_unit:\n",
    "    #     print('{:<15}'.format(unit), end='')\n",
    "    #     count += 1\n",
    "    #     if count == 3:\n",
    "    #         print()\n",
    "    #         count = 0\n",
    "\n",
    "    for i, unit in enumerate(dict_unit):\n",
    "        print('{:<15}'.format(unit), end='')\n",
    "        if (i+1) % 3 == 0:\n",
    "            print()\n",
    "\n",
    "    unit_from, unit_to, length = getInput()\n",
    "\n",
    "    length_converted = convertUnits(unit_from, unit_to, length, dict_unit)\n",
    "    print('Length in {}: {:.4f}'.format(unit_to, length_converted))\n",
    "\n",
    "def readUnits():\n",
    "    file_unit = open('../data/Units.txt', 'r')\n",
    "\n",
    "    dict_unit = {}\n",
    "    for line in file_unit:\n",
    "        name, value = line.split(',')\n",
    "        dict_unit[name] = float(value)\n",
    "    \n",
    "    file_unit.close()\n",
    "\n",
    "    return dict_unit\n",
    "\n",
    "def getInput():\n",
    "    unit_from = input('Unit to convert from: ')\n",
    "    unit_to = input('Unit to coverto to: ')\n",
    "    length = float(input('Enter length in {}'.format(unit_from)))\n",
    "\n",
    "    return unit_from, unit_to, length\n",
    "\n",
    "def convertUnits(unit_from, unit_to, length, dict_unit):\n",
    "    return length * dict_unit[unit_from]/ dict_unit[unit_to]\n",
    "\n",
    "main()"
   ]
  }
 ],
 "metadata": {
  "kernelspec": {
   "display_name": "Python 3",
   "language": "python",
   "name": "python3"
  },
  "language_info": {
   "codemirror_mode": {
    "name": "ipython",
    "version": 3
   },
   "file_extension": ".py",
   "mimetype": "text/x-python",
   "name": "python",
   "nbconvert_exporter": "python",
   "pygments_lexer": "ipython3",
   "version": "3.11.4"
  },
  "orig_nbformat": 4
 },
 "nbformat": 4,
 "nbformat_minor": 2
}
