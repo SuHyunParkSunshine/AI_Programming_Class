{
 "cells": [
  {
   "cell_type": "markdown",
   "metadata": {},
   "source": [
    "# Exception Handling"
   ]
  },
  {
   "cell_type": "code",
   "execution_count": 5,
   "metadata": {},
   "outputs": [
    {
     "name": "stdout",
     "output_type": "stream",
     "text": [
      "Error\n",
      "invalid literal for int() with base 10: ''\n"
     ]
    }
   ],
   "source": [
    "try:\n",
    "    num = int(input('Enter number of dependents: '))\n",
    "    print('Entered number: {}'.format(num))\n",
    "except ValueError as exp: #뒤에 Error 명시 안 하면 모든 에러를 잡게 된다. 알아서 잡아쥼~!\n",
    "    print('Error')\n",
    "    print(exp)\n"
   ]
  },
  {
   "cell_type": "code",
   "execution_count": 18,
   "metadata": {},
   "outputs": [
    {
     "name": "stdout",
     "output_type": "stream",
     "text": [
      "FileNotFoundError\n",
      "[Errno 2] No such file or directory: 'data/dsfffffff.txt'\n",
      "Try statment is finished\n"
     ]
    },
    {
     "ename": "UnboundLocalError",
     "evalue": "cannot access local variable 'infile' where it is not associated with a value",
     "output_type": "error",
     "traceback": [
      "\u001b[1;31m---------------------------------------------------------------------------\u001b[0m",
      "\u001b[1;31mUnboundLocalError\u001b[0m                         Traceback (most recent call last)",
      "Cell \u001b[1;32mIn[18], line 25\u001b[0m\n\u001b[0;32m     22\u001b[0m         \u001b[39mprint\u001b[39m(\u001b[39m'\u001b[39m\u001b[39mTry statment is finished\u001b[39m\u001b[39m'\u001b[39m)\n\u001b[0;32m     23\u001b[0m         infile\u001b[39m.\u001b[39mclose()\n\u001b[1;32m---> 25\u001b[0m main()\n",
      "Cell \u001b[1;32mIn[18], line 23\u001b[0m, in \u001b[0;36mmain\u001b[1;34m()\u001b[0m\n\u001b[0;32m     21\u001b[0m \u001b[39mfinally\u001b[39;00m:\n\u001b[0;32m     22\u001b[0m     \u001b[39mprint\u001b[39m(\u001b[39m'\u001b[39m\u001b[39mTry statment is finished\u001b[39m\u001b[39m'\u001b[39m)\n\u001b[1;32m---> 23\u001b[0m     infile\u001b[39m.\u001b[39mclose()\n",
      "\u001b[1;31mUnboundLocalError\u001b[0m: cannot access local variable 'infile' where it is not associated with a value"
     ]
    }
   ],
   "source": [
    "def main():\n",
    "    try:\n",
    "        fileName = input(\"Enter the name of a file: \")\n",
    "        infile = open('data/{}.txt'.format(fileName), 'r')\n",
    "        num = float(infile.readline())\n",
    "        print(1/num)\n",
    "    # except FileNotFoundError as exc1:\n",
    "    #     print(exc1)\n",
    "    # except ValueError as exc2:\n",
    "    #     print(exc2)\n",
    "    # except ZeroDivisionError as exc3:\n",
    "    #     print(exc3)\n",
    "\n",
    "    # 발생할 수 있는 모든 에러를 한번에 잡고 싶은 경우\n",
    "    except Exception as exc: # 모든 exception의 부모 클라스 Exception\n",
    "        print(type(exc).__name__)\n",
    "        print(exc)\n",
    "\n",
    "    else:\n",
    "        print('No Error occured')\n",
    "    finally:\n",
    "        infile.close()\n",
    "        print('Try statment is finished')\n",
    "\n",
    "main()"
   ]
  },
  {
   "cell_type": "markdown",
   "metadata": {},
   "source": [
    "# Selecting Random Values"
   ]
  },
  {
   "cell_type": "code",
   "execution_count": 107,
   "metadata": {},
   "outputs": [
    {
     "name": "stdout",
     "output_type": "stream",
     "text": [
      "Plum: 269 (0.269)\n",
      "Cherries: 265 (0.265)\n",
      "Bar: 41 (0.041)\n",
      "Orange: 249 (0.249)\n",
      "Melon: 137 (0.137)\n",
      "Bell: 39 (0.039)\n",
      "Cherries    Cherries    Plum    "
     ]
    }
   ],
   "source": [
    "import random\n",
    "\n",
    "def main():\n",
    "    for i in range(3):\n",
    "        outcome = spinWheel()\n",
    "        print(outcome, end=\"    \")\n",
    "\n",
    "num = 1000\n",
    "dict_cnt = {}\n",
    "for _ in range(num):\n",
    "    outcome = spinWheel()\n",
    "    dict_cnt[outcome] = dict_cnt.get(outcome, 0) + 1\n",
    "\n",
    "for k, v in dict_cnt.items():\n",
    "    print('{}: {} ({})'.format(k, v, v/num))\n",
    "\n",
    "def spinWheel():\n",
    "    n = random.randint(1, 20) # randint 는 각 숫자가 나올 확률이 동일함\n",
    "    if n > 15:\n",
    "        return \"Cherries\"\n",
    "    elif n > 10:\n",
    "        return \"Orange\"\n",
    "    elif n > 5:\n",
    "        return \"Plum\"\n",
    "    elif n > 2:\n",
    "        return \"Melon\"\n",
    "    elif n > 1:\n",
    "        return \"Bell\"\n",
    "    else:\n",
    "        return \"Bar\"\n",
    "\n",
    "main()    "
   ]
  },
  {
   "cell_type": "markdown",
   "metadata": {},
   "source": [
    "# Swapping"
   ]
  },
  {
   "cell_type": "code",
   "execution_count": 1,
   "metadata": {},
   "outputs": [
    {
     "name": "stdout",
     "output_type": "stream",
     "text": [
      "3\n",
      "2\n"
     ]
    }
   ],
   "source": [
    "x = 2 \n",
    "y = 3\n",
    "#(y, x)는 숨겨진 튜플의 형태임으로 이것을 다시 x, y에 할당\n",
    "x, y = y, x\n",
    "print(x)\n",
    "print(y)"
   ]
  },
  {
   "cell_type": "markdown",
   "metadata": {},
   "source": [
    "# Recursion"
   ]
  },
  {
   "cell_type": "code",
   "execution_count": null,
   "metadata": {},
   "outputs": [],
   "source": [
    "# power: 거듭제곱 함수\n",
    "def power(r, n):\n",
    "    if n > 1:\n",
    "        return r*power(r, n-1)\n",
    "    else:\n",
    "        return r\n",
    "print(power(2, 3))"
   ]
  }
 ],
 "metadata": {
  "kernelspec": {
   "display_name": "Python 3",
   "language": "python",
   "name": "python3"
  },
  "language_info": {
   "codemirror_mode": {
    "name": "ipython",
    "version": 3
   },
   "file_extension": ".py",
   "mimetype": "text/x-python",
   "name": "python",
   "nbconvert_exporter": "python",
   "pygments_lexer": "ipython3",
   "version": "3.11.4"
  },
  "orig_nbformat": 4
 },
 "nbformat": 4,
 "nbformat_minor": 2
}
